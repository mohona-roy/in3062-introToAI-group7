{
 "cells": [
  {
   "cell_type": "code",
   "execution_count": null,
   "id": "4e840269",
   "metadata": {},
   "outputs": [],
   "source": [
    "import matplotlib.pyplot as plt\n",
    "import numpy as np\n",
    "import csv\n",
    "import pandas as pd\n",
    "import seaborn as sns\n",
    "import statsmodels.api as sm\n",
    "from sklearn.model_selection import train_test_split\n",
    "from sklearn.preprocessing import MinMaxScaler, StandardScaler\n",
    "import scipy\n",
    "from scipy.stats import boxcox"
   ]
  },
  {
   "cell_type": "code",
   "execution_count": null,
   "id": "0820dd60",
   "metadata": {},
   "outputs": [],
   "source": [
    "data = pd.read_csv(\"creditcard_2023.csv\")\n",
    "data.head()"
   ]
  },
  {
   "cell_type": "code",
   "execution_count": null,
   "id": "e44773b6",
   "metadata": {},
   "outputs": [],
   "source": [
    "data = data.drop(columns=['id'])"
   ]
  },
  {
   "cell_type": "code",
   "execution_count": null,
   "id": "e072728f",
   "metadata": {},
   "outputs": [],
   "source": [
    "data.head()"
   ]
  },
  {
   "cell_type": "code",
   "execution_count": null,
   "id": "706cf728",
   "metadata": {},
   "outputs": [],
   "source": [
    "data.shape"
   ]
  },
  {
   "cell_type": "code",
   "execution_count": null,
   "id": "f4a838f8",
   "metadata": {},
   "outputs": [],
   "source": [
    "data.isna().sum()"
   ]
  },
  {
   "cell_type": "code",
   "execution_count": null,
   "id": "7d21ee6a",
   "metadata": {},
   "outputs": [],
   "source": [
    "data.describe()"
   ]
  },
  {
   "cell_type": "code",
   "execution_count": null,
   "id": "924585a6",
   "metadata": {},
   "outputs": [],
   "source": [
    "f, ax = plt.subplots(2, 2)\n",
    "sns.histplot(data['V1'], kde=True, ax=ax[0,0])\n",
    "sns.histplot(data['V2'], kde=True, ax=ax[0,1])\n",
    "sns.histplot(data['V3'], kde=True, ax=ax[1,0])\n",
    "sns.histplot(data['V4'], kde=True, ax=ax[1,1])"
   ]
  },
  {
   "cell_type": "code",
   "execution_count": null,
   "id": "b225fc35",
   "metadata": {},
   "outputs": [],
   "source": [
    "plt.hist(data['V2'], bins =150)"
   ]
  },
  {
   "cell_type": "code",
   "execution_count": null,
   "id": "62e595f3",
   "metadata": {},
   "outputs": [],
   "source": [
    "plt.hist(data['V3'], bins=20)"
   ]
  },
  {
   "cell_type": "code",
   "execution_count": null,
   "id": "c9dad2ee",
   "metadata": {},
   "outputs": [],
   "source": [
    "data['V3_transformed'] = np.log1p(data['V3'])"
   ]
  },
  {
   "cell_type": "code",
   "execution_count": null,
   "id": "4c496ce3",
   "metadata": {},
   "outputs": [],
   "source": [
    "data['V3_transformed'].isna().sum()"
   ]
  },
  {
   "cell_type": "code",
   "execution_count": null,
   "id": "f2d1f3fe",
   "metadata": {},
   "outputs": [],
   "source": [
    "data = data.drop(columns=['V3_transformed'])"
   ]
  },
  {
   "cell_type": "code",
   "execution_count": null,
   "id": "5b337292",
   "metadata": {},
   "outputs": [],
   "source": [
    "data.head()"
   ]
  },
  {
   "cell_type": "code",
   "execution_count": null,
   "id": "cb8f9fea",
   "metadata": {},
   "outputs": [],
   "source": [
    "correlation_matrix = data[data.columns].corr(method='spearman')\n",
    "mask = np.triu(np.ones_like(correlation_matrix))\n",
    "sns.heatmap(correlation_matrix,mask=mask, annot=False,cmap=\"coolwarm\")\n",
    "plt.show()"
   ]
  },
  {
   "cell_type": "code",
   "execution_count": null,
   "id": "c8e714f1",
   "metadata": {},
   "outputs": [],
   "source": [
    "remove = pd.DataFrame()\n",
    "remove = data[['Amount','Class']]\n",
    "for i in range(22, 29):\n",
    "    i=str(i)\n",
    "    remove['V'+i] = data['V'+i]"
   ]
  },
  {
   "cell_type": "code",
   "execution_count": null,
   "id": "9368fce7",
   "metadata": {},
   "outputs": [],
   "source": [
    "remove.head()"
   ]
  },
  {
   "cell_type": "code",
   "execution_count": null,
   "id": "a81e549d",
   "metadata": {},
   "outputs": [],
   "source": [
    "rem_correlation_matrix = remove[remove.columns].corr(method='spearman')\n",
    "mask = np.triu(np.ones_like(rem_correlation_matrix))\n",
    "sns.heatmap(rem_correlation_matrix,mask=mask, annot=True,cmap=\"coolwarm\")\n",
    "plt.show()"
   ]
  },
  {
   "cell_type": "code",
   "execution_count": null,
   "id": "c0c9d43c",
   "metadata": {},
   "outputs": [],
   "source": [
    "correlations = []\n",
    "p_values = []\n",
    "var = []\n",
    "for i in data[data.columns]:\n",
    "    if i!='Amount':\n",
    "        c, p = scipy.stats.spearmanr(data[i], data['Amount'])\n",
    "        correlations.append(c)\n",
    "        p_values.append(p)\n",
    "        var.append(i)"
   ]
  },
  {
   "cell_type": "code",
   "execution_count": null,
   "id": "01f9e754",
   "metadata": {},
   "outputs": [],
   "source": [
    "conclusion = []\n",
    "x=0\n",
    "for p in p_values:\n",
    "    if (p>0.05) | (p==0.5):\n",
    "        x=1 #accept null\n",
    "    else:\n",
    "        x=0 #reject null\n",
    "    conclusion.append(x)"
   ]
  },
  {
   "cell_type": "code",
   "execution_count": null,
   "id": "6a20404b",
   "metadata": {},
   "outputs": [],
   "source": [
    "count_rej = 0\n",
    "for i in conclusion:\n",
    "    if i == 0:\n",
    "        count_rej+=1\n",
    "print(count_rej)"
   ]
  },
  {
   "cell_type": "code",
   "execution_count": null,
   "id": "179d70b7",
   "metadata": {},
   "outputs": [],
   "source": [
    "fraud_am = pd.DataFrame()\n",
    "fraud_am = data[data['Class'] == 1][['Class', 'Amount']].copy()\n",
    "fraud_am['Class'].unique()"
   ]
  },
  {
   "cell_type": "code",
   "execution_count": null,
   "id": "f6660b6b",
   "metadata": {},
   "outputs": [],
   "source": [
    "fraud_am.head()"
   ]
  },
  {
   "cell_type": "code",
   "execution_count": null,
   "id": "d1a89a76",
   "metadata": {},
   "outputs": [],
   "source": [
    "n_fraud_am = pd.DataFrame()\n",
    "n_fraud_am = data[data['Class'] == 0][['Class', 'Amount']].copy()\n",
    "n_fraud_am['Class'].unique()"
   ]
  },
  {
   "cell_type": "code",
   "execution_count": null,
   "id": "1cdb1dd8",
   "metadata": {},
   "outputs": [],
   "source": [
    "n_fraud_am.head()"
   ]
  },
  {
   "cell_type": "code",
   "execution_count": null,
   "id": "396fd1a9",
   "metadata": {},
   "outputs": [],
   "source": [
    "plt.hist(data['Class'])"
   ]
  },
  {
   "cell_type": "code",
   "execution_count": null,
   "id": "54dae50c",
   "metadata": {},
   "outputs": [],
   "source": [
    "sns.kdeplot(data[data['Class'] == 0]['Amount'], color='blue', label=\"Non-Fraud\")\n",
    "sns.kdeplot(data[data['Class'] == 1]['Amount'], color='purple', label=\"Fraud\")\n",
    "plt.show()"
   ]
  },
  {
   "cell_type": "code",
   "execution_count": null,
   "id": "b32e4310",
   "metadata": {},
   "outputs": [],
   "source": [
    "u_test, u_pvalue = mannwhitneyu(n_fraud_am,fraud_am)\n",
    "print('Mann-Whiteney U tests: ', u_test, \" with p-values of \", u_pvalue)"
   ]
  },
  {
   "cell_type": "code",
   "execution_count": null,
   "id": "2ba0665a",
   "metadata": {},
   "outputs": [],
   "source": [
    "data = data.drop(columns=['Amount'])"
   ]
  },
  {
   "cell_type": "code",
   "execution_count": null,
   "id": "ce7c5ba5",
   "metadata": {},
   "outputs": [],
   "source": [
    "data.head()"
   ]
  }
 ],
 "metadata": {
  "kernelspec": {
   "display_name": "Python 3 (ipykernel)",
   "language": "python",
   "name": "python3"
  },
  "language_info": {
   "codemirror_mode": {
    "name": "ipython",
    "version": 3
   },
   "file_extension": ".py",
   "mimetype": "text/x-python",
   "name": "python",
   "nbconvert_exporter": "python",
   "pygments_lexer": "ipython3",
   "version": "3.11.4"
  }
 },
 "nbformat": 4,
 "nbformat_minor": 5
}
