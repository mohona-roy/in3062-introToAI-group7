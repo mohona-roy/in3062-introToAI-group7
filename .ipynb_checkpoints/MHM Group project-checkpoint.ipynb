{
 "cells": [
  {
   "cell_type": "code",
   "execution_count": 1,
   "id": "b7fc7930",
   "metadata": {},
   "outputs": [],
   "source": [
    "import matplotlib.pyplot as plt\n",
    "import seaborn as sns\n",
    "import numpy as np\n",
    "import pandas as pd\n",
    "import csv"
   ]
  },
  {
   "cell_type": "code",
   "execution_count": 2,
   "id": "fc8690e6",
   "metadata": {},
   "outputs": [
    {
     "data": {
      "text/html": [
       "<div>\n",
       "<style scoped>\n",
       "    .dataframe tbody tr th:only-of-type {\n",
       "        vertical-align: middle;\n",
       "    }\n",
       "\n",
       "    .dataframe tbody tr th {\n",
       "        vertical-align: top;\n",
       "    }\n",
       "\n",
       "    .dataframe thead th {\n",
       "        text-align: right;\n",
       "    }\n",
       "</style>\n",
       "<table border=\"1\" class=\"dataframe\">\n",
       "  <thead>\n",
       "    <tr style=\"text-align: right;\">\n",
       "      <th></th>\n",
       "      <th>Timestamp</th>\n",
       "      <th>Age</th>\n",
       "      <th>Primary streaming service</th>\n",
       "      <th>Hours per day</th>\n",
       "      <th>While working</th>\n",
       "      <th>Instrumentalist</th>\n",
       "      <th>Composer</th>\n",
       "      <th>Fav genre</th>\n",
       "      <th>Exploratory</th>\n",
       "      <th>Foreign languages</th>\n",
       "      <th>...</th>\n",
       "      <th>Frequency [R&amp;B]</th>\n",
       "      <th>Frequency [Rap]</th>\n",
       "      <th>Frequency [Rock]</th>\n",
       "      <th>Frequency [Video game music]</th>\n",
       "      <th>Anxiety</th>\n",
       "      <th>Depression</th>\n",
       "      <th>Insomnia</th>\n",
       "      <th>OCD</th>\n",
       "      <th>Music effects</th>\n",
       "      <th>Permissions</th>\n",
       "    </tr>\n",
       "  </thead>\n",
       "  <tbody>\n",
       "    <tr>\n",
       "      <th>0</th>\n",
       "      <td>8/27/2022 19:29:02</td>\n",
       "      <td>18.0</td>\n",
       "      <td>Spotify</td>\n",
       "      <td>3.0</td>\n",
       "      <td>Yes</td>\n",
       "      <td>Yes</td>\n",
       "      <td>Yes</td>\n",
       "      <td>Latin</td>\n",
       "      <td>Yes</td>\n",
       "      <td>Yes</td>\n",
       "      <td>...</td>\n",
       "      <td>Sometimes</td>\n",
       "      <td>Very frequently</td>\n",
       "      <td>Never</td>\n",
       "      <td>Sometimes</td>\n",
       "      <td>3.0</td>\n",
       "      <td>0.0</td>\n",
       "      <td>1.0</td>\n",
       "      <td>0.0</td>\n",
       "      <td>NaN</td>\n",
       "      <td>I understand.</td>\n",
       "    </tr>\n",
       "    <tr>\n",
       "      <th>1</th>\n",
       "      <td>8/27/2022 19:57:31</td>\n",
       "      <td>63.0</td>\n",
       "      <td>Pandora</td>\n",
       "      <td>1.5</td>\n",
       "      <td>Yes</td>\n",
       "      <td>No</td>\n",
       "      <td>No</td>\n",
       "      <td>Rock</td>\n",
       "      <td>Yes</td>\n",
       "      <td>No</td>\n",
       "      <td>...</td>\n",
       "      <td>Sometimes</td>\n",
       "      <td>Rarely</td>\n",
       "      <td>Very frequently</td>\n",
       "      <td>Rarely</td>\n",
       "      <td>7.0</td>\n",
       "      <td>2.0</td>\n",
       "      <td>2.0</td>\n",
       "      <td>1.0</td>\n",
       "      <td>NaN</td>\n",
       "      <td>I understand.</td>\n",
       "    </tr>\n",
       "    <tr>\n",
       "      <th>2</th>\n",
       "      <td>8/27/2022 21:28:18</td>\n",
       "      <td>18.0</td>\n",
       "      <td>Spotify</td>\n",
       "      <td>4.0</td>\n",
       "      <td>No</td>\n",
       "      <td>No</td>\n",
       "      <td>No</td>\n",
       "      <td>Video game music</td>\n",
       "      <td>No</td>\n",
       "      <td>Yes</td>\n",
       "      <td>...</td>\n",
       "      <td>Never</td>\n",
       "      <td>Rarely</td>\n",
       "      <td>Rarely</td>\n",
       "      <td>Very frequently</td>\n",
       "      <td>7.0</td>\n",
       "      <td>7.0</td>\n",
       "      <td>10.0</td>\n",
       "      <td>2.0</td>\n",
       "      <td>No effect</td>\n",
       "      <td>I understand.</td>\n",
       "    </tr>\n",
       "    <tr>\n",
       "      <th>3</th>\n",
       "      <td>8/27/2022 21:40:40</td>\n",
       "      <td>61.0</td>\n",
       "      <td>YouTube Music</td>\n",
       "      <td>2.5</td>\n",
       "      <td>Yes</td>\n",
       "      <td>No</td>\n",
       "      <td>Yes</td>\n",
       "      <td>Jazz</td>\n",
       "      <td>Yes</td>\n",
       "      <td>Yes</td>\n",
       "      <td>...</td>\n",
       "      <td>Sometimes</td>\n",
       "      <td>Never</td>\n",
       "      <td>Never</td>\n",
       "      <td>Never</td>\n",
       "      <td>9.0</td>\n",
       "      <td>7.0</td>\n",
       "      <td>3.0</td>\n",
       "      <td>3.0</td>\n",
       "      <td>Improve</td>\n",
       "      <td>I understand.</td>\n",
       "    </tr>\n",
       "    <tr>\n",
       "      <th>4</th>\n",
       "      <td>8/27/2022 21:54:47</td>\n",
       "      <td>18.0</td>\n",
       "      <td>Spotify</td>\n",
       "      <td>4.0</td>\n",
       "      <td>Yes</td>\n",
       "      <td>No</td>\n",
       "      <td>No</td>\n",
       "      <td>R&amp;B</td>\n",
       "      <td>Yes</td>\n",
       "      <td>No</td>\n",
       "      <td>...</td>\n",
       "      <td>Very frequently</td>\n",
       "      <td>Very frequently</td>\n",
       "      <td>Never</td>\n",
       "      <td>Rarely</td>\n",
       "      <td>7.0</td>\n",
       "      <td>2.0</td>\n",
       "      <td>5.0</td>\n",
       "      <td>9.0</td>\n",
       "      <td>Improve</td>\n",
       "      <td>I understand.</td>\n",
       "    </tr>\n",
       "  </tbody>\n",
       "</table>\n",
       "<p>5 rows × 33 columns</p>\n",
       "</div>"
      ],
      "text/plain": [
       "            Timestamp   Age Primary streaming service  Hours per day  \\\n",
       "0  8/27/2022 19:29:02  18.0                   Spotify            3.0   \n",
       "1  8/27/2022 19:57:31  63.0                   Pandora            1.5   \n",
       "2  8/27/2022 21:28:18  18.0                   Spotify            4.0   \n",
       "3  8/27/2022 21:40:40  61.0             YouTube Music            2.5   \n",
       "4  8/27/2022 21:54:47  18.0                   Spotify            4.0   \n",
       "\n",
       "  While working Instrumentalist Composer         Fav genre Exploratory  \\\n",
       "0           Yes             Yes      Yes             Latin         Yes   \n",
       "1           Yes              No       No              Rock         Yes   \n",
       "2            No              No       No  Video game music          No   \n",
       "3           Yes              No      Yes              Jazz         Yes   \n",
       "4           Yes              No       No               R&B         Yes   \n",
       "\n",
       "  Foreign languages  ...  Frequency [R&B]  Frequency [Rap] Frequency [Rock]  \\\n",
       "0               Yes  ...        Sometimes  Very frequently            Never   \n",
       "1                No  ...        Sometimes           Rarely  Very frequently   \n",
       "2               Yes  ...            Never           Rarely           Rarely   \n",
       "3               Yes  ...        Sometimes            Never            Never   \n",
       "4                No  ...  Very frequently  Very frequently            Never   \n",
       "\n",
       "  Frequency [Video game music] Anxiety Depression Insomnia  OCD Music effects  \\\n",
       "0                    Sometimes     3.0        0.0      1.0  0.0           NaN   \n",
       "1                       Rarely     7.0        2.0      2.0  1.0           NaN   \n",
       "2              Very frequently     7.0        7.0     10.0  2.0     No effect   \n",
       "3                        Never     9.0        7.0      3.0  3.0       Improve   \n",
       "4                       Rarely     7.0        2.0      5.0  9.0       Improve   \n",
       "\n",
       "     Permissions  \n",
       "0  I understand.  \n",
       "1  I understand.  \n",
       "2  I understand.  \n",
       "3  I understand.  \n",
       "4  I understand.  \n",
       "\n",
       "[5 rows x 33 columns]"
      ]
     },
     "execution_count": 2,
     "metadata": {},
     "output_type": "execute_result"
    }
   ],
   "source": [
    "data = pd.read_csv('mxmh_survey_results.csv')\n",
    "data.head()"
   ]
  },
  {
   "cell_type": "markdown",
   "id": "741626c5",
   "metadata": {},
   "source": [
    "## Data cleaning and pre-processing"
   ]
  },
  {
   "cell_type": "code",
   "execution_count": 3,
   "id": "eac3c0da",
   "metadata": {
    "scrolled": true
   },
   "outputs": [
    {
     "data": {
      "text/plain": [
       "(736, 33)"
      ]
     },
     "execution_count": 3,
     "metadata": {},
     "output_type": "execute_result"
    }
   ],
   "source": [
    "data.shape"
   ]
  },
  {
   "cell_type": "code",
   "execution_count": 4,
   "id": "df8891ac",
   "metadata": {},
   "outputs": [],
   "source": [
    "data = data.drop(columns=['Timestamp','Permissions'])"
   ]
  },
  {
   "cell_type": "code",
   "execution_count": 5,
   "id": "ec306136",
   "metadata": {},
   "outputs": [
    {
     "data": {
      "text/plain": [
       "Age                               1\n",
       "Primary streaming service         1\n",
       "Hours per day                     0\n",
       "While working                     3\n",
       "Instrumentalist                   4\n",
       "Composer                          1\n",
       "Fav genre                         0\n",
       "Exploratory                       0\n",
       "Foreign languages                 4\n",
       "BPM                             107\n",
       "Frequency [Classical]             0\n",
       "Frequency [Country]               0\n",
       "Frequency [EDM]                   0\n",
       "Frequency [Folk]                  0\n",
       "Frequency [Gospel]                0\n",
       "Frequency [Hip hop]               0\n",
       "Frequency [Jazz]                  0\n",
       "Frequency [K pop]                 0\n",
       "Frequency [Latin]                 0\n",
       "Frequency [Lofi]                  0\n",
       "Frequency [Metal]                 0\n",
       "Frequency [Pop]                   0\n",
       "Frequency [R&B]                   0\n",
       "Frequency [Rap]                   0\n",
       "Frequency [Rock]                  0\n",
       "Frequency [Video game music]      0\n",
       "Anxiety                           0\n",
       "Depression                        0\n",
       "Insomnia                          0\n",
       "OCD                               0\n",
       "Music effects                     8\n",
       "dtype: int64"
      ]
     },
     "execution_count": 5,
     "metadata": {},
     "output_type": "execute_result"
    }
   ],
   "source": [
    "data.isnull().sum()"
   ]
  },
  {
   "cell_type": "code",
   "execution_count": 6,
   "id": "012e3036",
   "metadata": {},
   "outputs": [],
   "source": [
    "data = data.dropna(subset=['Age','Primary streaming service','Composer','While working','Instrumentalist','Foreign languages','Music effects'])"
   ]
  },
  {
   "cell_type": "code",
   "execution_count": 7,
   "id": "bb493929",
   "metadata": {},
   "outputs": [
    {
     "data": {
      "text/plain": [
       "(718, 31)"
      ]
     },
     "execution_count": 7,
     "metadata": {},
     "output_type": "execute_result"
    }
   ],
   "source": [
    "data.shape"
   ]
  },
  {
   "cell_type": "code",
   "execution_count": 8,
   "id": "9ffa8eb9",
   "metadata": {},
   "outputs": [
    {
     "data": {
      "text/plain": [
       "Age                               0\n",
       "Primary streaming service         0\n",
       "Hours per day                     0\n",
       "While working                     0\n",
       "Instrumentalist                   0\n",
       "Composer                          0\n",
       "Fav genre                         0\n",
       "Exploratory                       0\n",
       "Foreign languages                 0\n",
       "BPM                             102\n",
       "Frequency [Classical]             0\n",
       "Frequency [Country]               0\n",
       "Frequency [EDM]                   0\n",
       "Frequency [Folk]                  0\n",
       "Frequency [Gospel]                0\n",
       "Frequency [Hip hop]               0\n",
       "Frequency [Jazz]                  0\n",
       "Frequency [K pop]                 0\n",
       "Frequency [Latin]                 0\n",
       "Frequency [Lofi]                  0\n",
       "Frequency [Metal]                 0\n",
       "Frequency [Pop]                   0\n",
       "Frequency [R&B]                   0\n",
       "Frequency [Rap]                   0\n",
       "Frequency [Rock]                  0\n",
       "Frequency [Video game music]      0\n",
       "Anxiety                           0\n",
       "Depression                        0\n",
       "Insomnia                          0\n",
       "OCD                               0\n",
       "Music effects                     0\n",
       "dtype: int64"
      ]
     },
     "execution_count": 8,
     "metadata": {},
     "output_type": "execute_result"
    }
   ],
   "source": [
    "data.isna().sum()"
   ]
  },
  {
   "cell_type": "code",
   "execution_count": 9,
   "id": "f68123b0",
   "metadata": {},
   "outputs": [
    {
     "data": {
      "text/plain": [
       "2    132.0\n",
       "3     84.0\n",
       "4    107.0\n",
       "5     86.0\n",
       "6     66.0\n",
       "Name: BPM, dtype: float64"
      ]
     },
     "execution_count": 9,
     "metadata": {},
     "output_type": "execute_result"
    }
   ],
   "source": [
    "data['BPM'].head()"
   ]
  },
  {
   "cell_type": "code",
   "execution_count": 10,
   "id": "4f2e368b",
   "metadata": {},
   "outputs": [
    {
     "name": "stdout",
     "output_type": "stream",
     "text": [
      "The mean BPM is:  1623500.0016233767\n"
     ]
    }
   ],
   "source": [
    "mean_bpm = data['BPM'].mean()\n",
    "print(\"The mean BPM is: \", mean_bpm)"
   ]
  },
  {
   "cell_type": "markdown",
   "id": "13cf1ce9",
   "metadata": {},
   "source": [
    "#### Assessing the null values for each genre"
   ]
  },
  {
   "cell_type": "code",
   "execution_count": 11,
   "id": "651c8b15",
   "metadata": {
    "scrolled": true
   },
   "outputs": [
    {
     "data": {
      "text/plain": [
       "array(['Video game music', 'Jazz', 'R&B', 'K pop', 'Rock', 'Country',\n",
       "       'EDM', 'Pop', 'Hip hop', 'Rap', 'Classical', 'Metal', 'Folk',\n",
       "       'Lofi', 'Gospel', 'Latin'], dtype=object)"
      ]
     },
     "execution_count": 11,
     "metadata": {},
     "output_type": "execute_result"
    }
   ],
   "source": [
    "data['Fav genre'].unique()"
   ]
  },
  {
   "cell_type": "code",
   "execution_count": 12,
   "id": "4f880bb1",
   "metadata": {},
   "outputs": [],
   "source": [
    "bpm_jazz = data.loc[data['Fav genre']== 'Jazz',['Fav genre','BPM']]"
   ]
  },
  {
   "cell_type": "code",
   "execution_count": 13,
   "id": "b05e86c4",
   "metadata": {},
   "outputs": [],
   "source": [
    "bpm_jazz_mean = bpm_jazz['BPM'].mean()"
   ]
  },
  {
   "cell_type": "code",
   "execution_count": 14,
   "id": "c617a290",
   "metadata": {},
   "outputs": [
    {
     "name": "stdout",
     "output_type": "stream",
     "text": [
      "The average BPM for Jazz music lovers is... 124.47368421052632\n"
     ]
    }
   ],
   "source": [
    "print(\"The average BPM for Jazz music lovers is...\", bpm_jazz_mean)"
   ]
  },
  {
   "cell_type": "code",
   "execution_count": 15,
   "id": "a72d1a47",
   "metadata": {},
   "outputs": [
    {
     "data": {
      "text/html": [
       "<div>\n",
       "<style scoped>\n",
       "    .dataframe tbody tr th:only-of-type {\n",
       "        vertical-align: middle;\n",
       "    }\n",
       "\n",
       "    .dataframe tbody tr th {\n",
       "        vertical-align: top;\n",
       "    }\n",
       "\n",
       "    .dataframe thead th {\n",
       "        text-align: right;\n",
       "    }\n",
       "</style>\n",
       "<table border=\"1\" class=\"dataframe\">\n",
       "  <thead>\n",
       "    <tr style=\"text-align: right;\">\n",
       "      <th></th>\n",
       "      <th>Fav genre</th>\n",
       "      <th>BPM</th>\n",
       "    </tr>\n",
       "  </thead>\n",
       "  <tbody>\n",
       "    <tr>\n",
       "      <th>3</th>\n",
       "      <td>Jazz</td>\n",
       "      <td>84.0</td>\n",
       "    </tr>\n",
       "    <tr>\n",
       "      <th>5</th>\n",
       "      <td>Jazz</td>\n",
       "      <td>86.0</td>\n",
       "    </tr>\n",
       "    <tr>\n",
       "      <th>14</th>\n",
       "      <td>Jazz</td>\n",
       "      <td>148.0</td>\n",
       "    </tr>\n",
       "    <tr>\n",
       "      <th>75</th>\n",
       "      <td>Jazz</td>\n",
       "      <td>167.0</td>\n",
       "    </tr>\n",
       "    <tr>\n",
       "      <th>81</th>\n",
       "      <td>Jazz</td>\n",
       "      <td>118.0</td>\n",
       "    </tr>\n",
       "  </tbody>\n",
       "</table>\n",
       "</div>"
      ],
      "text/plain": [
       "   Fav genre    BPM\n",
       "3       Jazz   84.0\n",
       "5       Jazz   86.0\n",
       "14      Jazz  148.0\n",
       "75      Jazz  167.0\n",
       "81      Jazz  118.0"
      ]
     },
     "execution_count": 15,
     "metadata": {},
     "output_type": "execute_result"
    }
   ],
   "source": [
    "bpm_jazz.head()"
   ]
  },
  {
   "cell_type": "code",
   "execution_count": 16,
   "id": "8df72ba5",
   "metadata": {},
   "outputs": [
    {
     "data": {
      "text/html": [
       "<div>\n",
       "<style scoped>\n",
       "    .dataframe tbody tr th:only-of-type {\n",
       "        vertical-align: middle;\n",
       "    }\n",
       "\n",
       "    .dataframe tbody tr th {\n",
       "        vertical-align: top;\n",
       "    }\n",
       "\n",
       "    .dataframe thead th {\n",
       "        text-align: right;\n",
       "    }\n",
       "</style>\n",
       "<table border=\"1\" class=\"dataframe\">\n",
       "  <thead>\n",
       "    <tr style=\"text-align: right;\">\n",
       "      <th></th>\n",
       "      <th>BPM</th>\n",
       "    </tr>\n",
       "  </thead>\n",
       "  <tbody>\n",
       "    <tr>\n",
       "      <th>count</th>\n",
       "      <td>19.000000</td>\n",
       "    </tr>\n",
       "    <tr>\n",
       "      <th>mean</th>\n",
       "      <td>124.473684</td>\n",
       "    </tr>\n",
       "    <tr>\n",
       "      <th>std</th>\n",
       "      <td>36.925403</td>\n",
       "    </tr>\n",
       "    <tr>\n",
       "      <th>min</th>\n",
       "      <td>81.000000</td>\n",
       "    </tr>\n",
       "    <tr>\n",
       "      <th>25%</th>\n",
       "      <td>91.500000</td>\n",
       "    </tr>\n",
       "    <tr>\n",
       "      <th>50%</th>\n",
       "      <td>120.000000</td>\n",
       "    </tr>\n",
       "    <tr>\n",
       "      <th>75%</th>\n",
       "      <td>144.000000</td>\n",
       "    </tr>\n",
       "    <tr>\n",
       "      <th>max</th>\n",
       "      <td>200.000000</td>\n",
       "    </tr>\n",
       "  </tbody>\n",
       "</table>\n",
       "</div>"
      ],
      "text/plain": [
       "              BPM\n",
       "count   19.000000\n",
       "mean   124.473684\n",
       "std     36.925403\n",
       "min     81.000000\n",
       "25%     91.500000\n",
       "50%    120.000000\n",
       "75%    144.000000\n",
       "max    200.000000"
      ]
     },
     "execution_count": 16,
     "metadata": {},
     "output_type": "execute_result"
    }
   ],
   "source": [
    "bpm_jazz.describe()"
   ]
  },
  {
   "cell_type": "code",
   "execution_count": 17,
   "id": "f21bde89",
   "metadata": {},
   "outputs": [
    {
     "data": {
      "text/plain": [
       "1"
      ]
     },
     "execution_count": 17,
     "metadata": {},
     "output_type": "execute_result"
    }
   ],
   "source": [
    "bpm_jazz['BPM'].isna().sum()"
   ]
  },
  {
   "cell_type": "code",
   "execution_count": 18,
   "id": "07d4f925",
   "metadata": {
    "scrolled": true
   },
   "outputs": [
    {
     "data": {
      "text/plain": [
       "(array([5., 2., 1., 3., 3., 2., 0., 1., 0., 2.]),\n",
       " array([ 81. ,  92.9, 104.8, 116.7, 128.6, 140.5, 152.4, 164.3, 176.2,\n",
       "        188.1, 200. ]),\n",
       " <BarContainer object of 10 artists>)"
      ]
     },
     "execution_count": 18,
     "metadata": {},
     "output_type": "execute_result"
    },
    {
     "data": {
      "image/png": "[encoded data removed]",
      "text/plain": [
       "<Figure size 640x480 with 1 Axes>"
      ]
     },
     "metadata": {},
     "output_type": "display_data"
    }
   ],
   "source": [
    "plt.hist(bpm_jazz['BPM'])"
   ]
  },
  {
   "cell_type": "code",
   "execution_count": 19,
   "id": "7e945d04",
   "metadata": {},
   "outputs": [
    {
     "name": "stdout",
     "output_type": "stream",
     "text": [
      "The standard deviation is... 36.92540291069224\n"
     ]
    }
   ],
   "source": [
    "jazzbpm_std = bpm_jazz['BPM'].std()\n",
    "print('The standard deviation is...',jazzbpm_std)"
   ]
  },
  {
   "cell_type": "code",
   "execution_count": 20,
   "id": "de8f3587",
   "metadata": {
    "scrolled": true
   },
   "outputs": [],
   "source": [
    "bpm_jazz['bpm_jazz_z'] = 0\n",
    "for i in bpm_jazz['BPM']:\n",
    "    z = ((i-bpm_jazz_mean)/jazzbpm_std)\n",
    "    idx = bpm_jazz[bpm_jazz['BPM'] ==i].index\n",
    "    bpm_jazz.loc[idx, \"bpm_jazz_z\"] =z"
   ]
  },
  {
   "cell_type": "code",
   "execution_count": 21,
   "id": "2c7f713a",
   "metadata": {},
   "outputs": [
    {
     "data": {
      "text/plain": [
       "3    -1.096093\n",
       "5    -1.041930\n",
       "14    0.637131\n",
       "75    1.151682\n",
       "81   -0.175318\n",
       "Name: bpm_jazz_z, dtype: float64"
      ]
     },
     "execution_count": 21,
     "metadata": {},
     "output_type": "execute_result"
    }
   ],
   "source": [
    "bpm_jazz['bpm_jazz_z'].head()"
   ]
  },
  {
   "cell_type": "code",
   "execution_count": 22,
   "id": "009b8e3b",
   "metadata": {},
   "outputs": [],
   "source": [
    "bpm_jazz['isOutlierBPM'] = 0"
   ]
  },
  {
   "cell_type": "code",
   "execution_count": 23,
   "id": "f8a6ca0c",
   "metadata": {
    "scrolled": true
   },
   "outputs": [],
   "source": [
    "for z in bpm_jazz['bpm_jazz_z']:\n",
    "    if (z < -3) | (z > 3):\n",
    "        idx = bpm_jazz[bpm_jazz['bpm_jazz_z']==z].index\n",
    "        bpm_jazz.loc[idx, 'isOutlierBPM'] =1"
   ]
  },
  {
   "cell_type": "code",
   "execution_count": 24,
   "id": "1fdf96cd",
   "metadata": {},
   "outputs": [
    {
     "data": {
      "text/plain": [
       "array([0])"
      ]
     },
     "execution_count": 24,
     "metadata": {},
     "output_type": "execute_result"
    }
   ],
   "source": [
    "bpm_jazz['isOutlierBPM'].unique()"
   ]
  },
  {
   "cell_type": "code",
   "execution_count": 25,
   "id": "44928262",
   "metadata": {},
   "outputs": [],
   "source": [
    "bpm_jazz = bpm_jazz.drop(columns=['isOutlierBPM'])"
   ]
  },
  {
   "cell_type": "code",
   "execution_count": 26,
   "id": "47568865",
   "metadata": {},
   "outputs": [],
   "source": [
    "bpm_jazz_med = bpm_jazz['BPM'].median()"
   ]
  },
  {
   "cell_type": "code",
   "execution_count": 27,
   "id": "0b563b3d",
   "metadata": {},
   "outputs": [
    {
     "name": "stdout",
     "output_type": "stream",
     "text": [
      "The median BPM for Jazz is... 120.0\n"
     ]
    }
   ],
   "source": [
    "print('The median BPM for Jazz is...',bpm_jazz_med)"
   ]
  },
  {
   "cell_type": "code",
   "execution_count": 28,
   "id": "94158b84",
   "metadata": {
    "scrolled": true
   },
   "outputs": [],
   "source": [
    "for i in data['Fav genre']:\n",
    "    if i=='Jazz':\n",
    "        idx = data[data['Fav genre']==i].index\n",
    "        isNa = pd.isnull(data.loc[idx,'BPM'])\n",
    "        if isNa.any():\n",
    "            data.loc[idx,'BPM'] = bpm_jazz_med"
   ]
  },
  {
   "cell_type": "code",
   "execution_count": 29,
   "id": "497d1ac3",
   "metadata": {},
   "outputs": [
    {
     "data": {
      "text/plain": [
       "101"
      ]
     },
     "execution_count": 29,
     "metadata": {},
     "output_type": "execute_result"
    }
   ],
   "source": [
    "data['BPM'].isnull().sum()"
   ]
  },
  {
   "cell_type": "code",
   "execution_count": 30,
   "id": "9f31ba9d",
   "metadata": {},
   "outputs": [],
   "source": [
    "bpm_vid = data.loc[data['Fav genre']== 'Video game music',['Fav genre','BPM']]"
   ]
  },
  {
   "cell_type": "code",
   "execution_count": 33,
   "id": "4e5e914e",
   "metadata": {},
   "outputs": [],
   "source": [
    "bpm_vid_mean = bpm_vid['BPM'].mean()"
   ]
  },
  {
   "cell_type": "code",
   "execution_count": 34,
   "id": "936ba2da",
   "metadata": {},
   "outputs": [
    {
     "name": "stdout",
     "output_type": "stream",
     "text": [
      "The mean BPM for video game music is...  27777895.027777776\n"
     ]
    }
   ],
   "source": [
    "print(\"The mean BPM for video game music is... \",bpm_vid_mean)"
   ]
  },
  {
   "cell_type": "code",
   "execution_count": 35,
   "id": "3d769827",
   "metadata": {},
   "outputs": [
    {
     "data": {
      "text/html": [
       "<div>\n",
       "<style scoped>\n",
       "    .dataframe tbody tr th:only-of-type {\n",
       "        vertical-align: middle;\n",
       "    }\n",
       "\n",
       "    .dataframe tbody tr th {\n",
       "        vertical-align: top;\n",
       "    }\n",
       "\n",
       "    .dataframe thead th {\n",
       "        text-align: right;\n",
       "    }\n",
       "</style>\n",
       "<table border=\"1\" class=\"dataframe\">\n",
       "  <thead>\n",
       "    <tr style=\"text-align: right;\">\n",
       "      <th></th>\n",
       "      <th>BPM</th>\n",
       "    </tr>\n",
       "  </thead>\n",
       "  <tbody>\n",
       "    <tr>\n",
       "      <th>count</th>\n",
       "      <td>3.600000e+01</td>\n",
       "    </tr>\n",
       "    <tr>\n",
       "      <th>mean</th>\n",
       "      <td>2.777790e+07</td>\n",
       "    </tr>\n",
       "    <tr>\n",
       "      <th>std</th>\n",
       "      <td>1.666666e+08</td>\n",
       "    </tr>\n",
       "    <tr>\n",
       "      <th>min</th>\n",
       "      <td>6.000000e+01</td>\n",
       "    </tr>\n",
       "    <tr>\n",
       "      <th>25%</th>\n",
       "      <td>9.500000e+01</td>\n",
       "    </tr>\n",
       "    <tr>\n",
       "      <th>50%</th>\n",
       "      <td>1.225000e+02</td>\n",
       "    </tr>\n",
       "    <tr>\n",
       "      <th>75%</th>\n",
       "      <td>1.475000e+02</td>\n",
       "    </tr>\n",
       "    <tr>\n",
       "      <th>max</th>\n",
       "      <td>1.000000e+09</td>\n",
       "    </tr>\n",
       "  </tbody>\n",
       "</table>\n",
       "</div>"
      ],
      "text/plain": [
       "                BPM\n",
       "count  3.600000e+01\n",
       "mean   2.777790e+07\n",
       "std    1.666666e+08\n",
       "min    6.000000e+01\n",
       "25%    9.500000e+01\n",
       "50%    1.225000e+02\n",
       "75%    1.475000e+02\n",
       "max    1.000000e+09"
      ]
     },
     "execution_count": 35,
     "metadata": {},
     "output_type": "execute_result"
    }
   ],
   "source": [
    "bpm_vid.describe()"
   ]
  },
  {
   "cell_type": "code",
   "execution_count": 36,
   "id": "b50f5585",
   "metadata": {
    "scrolled": true
   },
   "outputs": [
    {
     "data": {
      "text/plain": [
       "7"
      ]
     },
     "execution_count": 36,
     "metadata": {},
     "output_type": "execute_result"
    }
   ],
   "source": [
    "bpm_vid['BPM'].isna().sum()"
   ]
  },
  {
   "cell_type": "code",
   "execution_count": 37,
   "id": "c6cf2b50",
   "metadata": {},
   "outputs": [],
   "source": [
    "vid_bpm_std = bpm_vid['BPM'].std()\n",
    "vid_bpm_mean = bpm_vid['BPM'].mean()"
   ]
  },
  {
   "cell_type": "code",
   "execution_count": 39,
   "id": "cc934a5f",
   "metadata": {},
   "outputs": [],
   "source": [
    "bpm_vid['bpm_vid_z'] = 0\n",
    "for i in bpm_vid['BPM']:\n",
    "    z = ((i-vid_bpm_mean)/vid_bpm_std)\n",
    "    idx = bpm_vid[bpm_vid['BPM'] ==i].index\n",
    "    bpm_vid.loc[idx, \"bpm_vid_z\"] =z"
   ]
  },
  {
   "cell_type": "code",
   "execution_count": 40,
   "id": "b5f6a72c",
   "metadata": {},
   "outputs": [],
   "source": [
    "bpm_vid['isOutlierBPM'] = 0"
   ]
  },
  {
   "cell_type": "code",
   "execution_count": 43,
   "id": "548e7ef6",
   "metadata": {},
   "outputs": [],
   "source": [
    "for z in bpm_vid['bpm_vid_z']:\n",
    "    if (z < -3) | (z > 3):\n",
    "        idx = bpm_vid[bpm_vid['bpm_vid_z']==z].index\n",
    "        bpm_vid.loc[idx, 'isOutlierBPM'] =1"
   ]
  },
  {
   "cell_type": "code",
   "execution_count": 44,
   "id": "ea36f5e2",
   "metadata": {},
   "outputs": [
    {
     "data": {
      "text/plain": [
       "array([0, 1])"
      ]
     },
     "execution_count": 44,
     "metadata": {},
     "output_type": "execute_result"
    }
   ],
   "source": [
    "bpm_vid['isOutlierBPM'].unique()"
   ]
  },
  {
   "cell_type": "code",
   "execution_count": 56,
   "id": "a4070fe4",
   "metadata": {},
   "outputs": [
    {
     "name": "stdout",
     "output_type": "stream",
     "text": [
      "Int64Index([568], dtype='int64')\n",
      "568    999999999.0\n",
      "Name: BPM, dtype: float64\n"
     ]
    }
   ],
   "source": [
    "outlier_index = []\n",
    "for i in bpm_vid['isOutlierBPM']:\n",
    "    if i==1:\n",
    "        idx = bpm_vid[bpm_vid['isOutlierBPM']==i].index\n",
    "        bpm = bpm_vid.loc[idx, 'BPM']\n",
    "        outlier_index.append(idx)\n",
    "        print(idx)\n",
    "        print(bpm)"
   ]
  },
  {
   "cell_type": "code",
   "execution_count": 60,
   "id": "56643f04",
   "metadata": {},
   "outputs": [
    {
     "name": "stdout",
     "output_type": "stream",
     "text": [
      "The median BPM for video game music listeners is... 122\n"
     ]
    }
   ],
   "source": [
    "bpm_vid_median = int(bpm_vid['BPM'].median())\n",
    "print('The median BPM for video game music listeners is...',bpm_vid_median)"
   ]
  },
  {
   "cell_type": "code",
   "execution_count": 61,
   "id": "f8c4f59f",
   "metadata": {},
   "outputs": [],
   "source": [
    "for i in outlier_index:\n",
    "    data.loc[i, 'BPM'] = bpm_vid_median\n",
    "    bpm_vid.loc[i,'BPM'] = bpm_vid_median"
   ]
  },
  {
   "cell_type": "code",
   "execution_count": 63,
   "id": "302d39ce",
   "metadata": {},
   "outputs": [],
   "source": [
    "for i in data['Fav genre']:\n",
    "    if i=='Video game music':\n",
    "        idx = data[data['Fav genre']==i].index\n",
    "        isNa = pd.isnull(data.loc[idx,'BPM'])\n",
    "        if isNa.any():\n",
    "            data.loc[idx,'BPM'] = bpm_vid_median"
   ]
  },
  {
   "cell_type": "code",
   "execution_count": 64,
   "id": "2963ed97",
   "metadata": {},
   "outputs": [
    {
     "data": {
      "text/plain": [
       "94"
      ]
     },
     "execution_count": 64,
     "metadata": {},
     "output_type": "execute_result"
    }
   ],
   "source": [
    "data['BPM'].isna().sum()"
   ]
  },
  {
   "cell_type": "code",
   "execution_count": 65,
   "id": "877f4c6e",
   "metadata": {},
   "outputs": [],
   "source": [
    "bpm_rb = data.loc[data['Fav genre']== 'R&B',['Fav genre','BPM']]"
   ]
  },
  {
   "cell_type": "code",
   "execution_count": 66,
   "id": "6c8f3c7a",
   "metadata": {},
   "outputs": [
    {
     "data": {
      "text/html": [
       "<div>\n",
       "<style scoped>\n",
       "    .dataframe tbody tr th:only-of-type {\n",
       "        vertical-align: middle;\n",
       "    }\n",
       "\n",
       "    .dataframe tbody tr th {\n",
       "        vertical-align: top;\n",
       "    }\n",
       "\n",
       "    .dataframe thead th {\n",
       "        text-align: right;\n",
       "    }\n",
       "</style>\n",
       "<table border=\"1\" class=\"dataframe\">\n",
       "  <thead>\n",
       "    <tr style=\"text-align: right;\">\n",
       "      <th></th>\n",
       "      <th>Fav genre</th>\n",
       "      <th>BPM</th>\n",
       "    </tr>\n",
       "  </thead>\n",
       "  <tbody>\n",
       "    <tr>\n",
       "      <th>4</th>\n",
       "      <td>R&amp;B</td>\n",
       "      <td>107.0</td>\n",
       "    </tr>\n",
       "    <tr>\n",
       "      <th>9</th>\n",
       "      <td>R&amp;B</td>\n",
       "      <td>155.0</td>\n",
       "    </tr>\n",
       "    <tr>\n",
       "      <th>22</th>\n",
       "      <td>R&amp;B</td>\n",
       "      <td>118.0</td>\n",
       "    </tr>\n",
       "    <tr>\n",
       "      <th>77</th>\n",
       "      <td>R&amp;B</td>\n",
       "      <td>110.0</td>\n",
       "    </tr>\n",
       "    <tr>\n",
       "      <th>84</th>\n",
       "      <td>R&amp;B</td>\n",
       "      <td>77.0</td>\n",
       "    </tr>\n",
       "  </tbody>\n",
       "</table>\n",
       "</div>"
      ],
      "text/plain": [
       "   Fav genre    BPM\n",
       "4        R&B  107.0\n",
       "9        R&B  155.0\n",
       "22       R&B  118.0\n",
       "77       R&B  110.0\n",
       "84       R&B   77.0"
      ]
     },
     "execution_count": 66,
     "metadata": {},
     "output_type": "execute_result"
    }
   ],
   "source": [
    "bpm_rb.head()"
   ]
  },
  {
   "cell_type": "code",
   "execution_count": 68,
   "id": "29d35cbd",
   "metadata": {
    "scrolled": true
   },
   "outputs": [
    {
     "data": {
      "text/plain": [
       "5"
      ]
     },
     "execution_count": 68,
     "metadata": {},
     "output_type": "execute_result"
    }
   ],
   "source": [
    "bpm_rb['BPM'].isna().sum()"
   ]
  },
  {
   "cell_type": "code",
   "execution_count": null,
   "id": "2c015b9a",
   "metadata": {},
   "outputs": [],
   "source": []
  }
 ],
 "metadata": {
  "kernelspec": {
   "display_name": "Python 3 (ipykernel)",
   "language": "python",
   "name": "python3"
  },
  "language_info": {
   "codemirror_mode": {
    "name": "ipython",
    "version": 3
   },
   "file_extension": ".py",
   "mimetype": "text/x-python",
   "name": "python",
   "nbconvert_exporter": "python",
   "pygments_lexer": "ipython3",
   "version": "3.11.4"
  }
 },
 "nbformat": 4,
 "nbformat_minor": 5
}
