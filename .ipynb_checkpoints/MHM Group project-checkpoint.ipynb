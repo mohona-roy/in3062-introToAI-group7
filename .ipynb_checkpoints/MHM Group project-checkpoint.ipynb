{
 "cells": [
  {
   "cell_type": "code",
   "execution_count": 1,
   "id": "b7fc7930",
   "metadata": {},
   "outputs": [],
   "source": [
    "import matplotlib.pyplot as plt\n",
    "import seaborn as sns\n",
    "import numpy as np\n",
    "import pandas as pd\n",
    "import csv"
   ]
  },
  {
   "cell_type": "code",
   "execution_count": 2,
   "id": "fc8690e6",
   "metadata": {},
   "outputs": [
    {
     "data": {
      "text/html": [
       "<div>\n",
       "<style scoped>\n",
       "    .dataframe tbody tr th:only-of-type {\n",
       "        vertical-align: middle;\n",
       "    }\n",
       "\n",
       "    .dataframe tbody tr th {\n",
       "        vertical-align: top;\n",
       "    }\n",
       "\n",
       "    .dataframe thead th {\n",
       "        text-align: right;\n",
       "    }\n",
       "</style>\n",
       "<table border=\"1\" class=\"dataframe\">\n",
       "  <thead>\n",
       "    <tr style=\"text-align: right;\">\n",
       "      <th></th>\n",
       "      <th>Timestamp</th>\n",
       "      <th>Age</th>\n",
       "      <th>Primary streaming service</th>\n",
       "      <th>Hours per day</th>\n",
       "      <th>While working</th>\n",
       "      <th>Instrumentalist</th>\n",
       "      <th>Composer</th>\n",
       "      <th>Fav genre</th>\n",
       "      <th>Exploratory</th>\n",
       "      <th>Foreign languages</th>\n",
       "      <th>...</th>\n",
       "      <th>Frequency [R&amp;B]</th>\n",
       "      <th>Frequency [Rap]</th>\n",
       "      <th>Frequency [Rock]</th>\n",
       "      <th>Frequency [Video game music]</th>\n",
       "      <th>Anxiety</th>\n",
       "      <th>Depression</th>\n",
       "      <th>Insomnia</th>\n",
       "      <th>OCD</th>\n",
       "      <th>Music effects</th>\n",
       "      <th>Permissions</th>\n",
       "    </tr>\n",
       "  </thead>\n",
       "  <tbody>\n",
       "    <tr>\n",
       "      <th>0</th>\n",
       "      <td>8/27/2022 19:29:02</td>\n",
       "      <td>18.0</td>\n",
       "      <td>Spotify</td>\n",
       "      <td>3.0</td>\n",
       "      <td>Yes</td>\n",
       "      <td>Yes</td>\n",
       "      <td>Yes</td>\n",
       "      <td>Latin</td>\n",
       "      <td>Yes</td>\n",
       "      <td>Yes</td>\n",
       "      <td>...</td>\n",
       "      <td>Sometimes</td>\n",
       "      <td>Very frequently</td>\n",
       "      <td>Never</td>\n",
       "      <td>Sometimes</td>\n",
       "      <td>3.0</td>\n",
       "      <td>0.0</td>\n",
       "      <td>1.0</td>\n",
       "      <td>0.0</td>\n",
       "      <td>NaN</td>\n",
       "      <td>I understand.</td>\n",
       "    </tr>\n",
       "    <tr>\n",
       "      <th>1</th>\n",
       "      <td>8/27/2022 19:57:31</td>\n",
       "      <td>63.0</td>\n",
       "      <td>Pandora</td>\n",
       "      <td>1.5</td>\n",
       "      <td>Yes</td>\n",
       "      <td>No</td>\n",
       "      <td>No</td>\n",
       "      <td>Rock</td>\n",
       "      <td>Yes</td>\n",
       "      <td>No</td>\n",
       "      <td>...</td>\n",
       "      <td>Sometimes</td>\n",
       "      <td>Rarely</td>\n",
       "      <td>Very frequently</td>\n",
       "      <td>Rarely</td>\n",
       "      <td>7.0</td>\n",
       "      <td>2.0</td>\n",
       "      <td>2.0</td>\n",
       "      <td>1.0</td>\n",
       "      <td>NaN</td>\n",
       "      <td>I understand.</td>\n",
       "    </tr>\n",
       "    <tr>\n",
       "      <th>2</th>\n",
       "      <td>8/27/2022 21:28:18</td>\n",
       "      <td>18.0</td>\n",
       "      <td>Spotify</td>\n",
       "      <td>4.0</td>\n",
       "      <td>No</td>\n",
       "      <td>No</td>\n",
       "      <td>No</td>\n",
       "      <td>Video game music</td>\n",
       "      <td>No</td>\n",
       "      <td>Yes</td>\n",
       "      <td>...</td>\n",
       "      <td>Never</td>\n",
       "      <td>Rarely</td>\n",
       "      <td>Rarely</td>\n",
       "      <td>Very frequently</td>\n",
       "      <td>7.0</td>\n",
       "      <td>7.0</td>\n",
       "      <td>10.0</td>\n",
       "      <td>2.0</td>\n",
       "      <td>No effect</td>\n",
       "      <td>I understand.</td>\n",
       "    </tr>\n",
       "    <tr>\n",
       "      <th>3</th>\n",
       "      <td>8/27/2022 21:40:40</td>\n",
       "      <td>61.0</td>\n",
       "      <td>YouTube Music</td>\n",
       "      <td>2.5</td>\n",
       "      <td>Yes</td>\n",
       "      <td>No</td>\n",
       "      <td>Yes</td>\n",
       "      <td>Jazz</td>\n",
       "      <td>Yes</td>\n",
       "      <td>Yes</td>\n",
       "      <td>...</td>\n",
       "      <td>Sometimes</td>\n",
       "      <td>Never</td>\n",
       "      <td>Never</td>\n",
       "      <td>Never</td>\n",
       "      <td>9.0</td>\n",
       "      <td>7.0</td>\n",
       "      <td>3.0</td>\n",
       "      <td>3.0</td>\n",
       "      <td>Improve</td>\n",
       "      <td>I understand.</td>\n",
       "    </tr>\n",
       "    <tr>\n",
       "      <th>4</th>\n",
       "      <td>8/27/2022 21:54:47</td>\n",
       "      <td>18.0</td>\n",
       "      <td>Spotify</td>\n",
       "      <td>4.0</td>\n",
       "      <td>Yes</td>\n",
       "      <td>No</td>\n",
       "      <td>No</td>\n",
       "      <td>R&amp;B</td>\n",
       "      <td>Yes</td>\n",
       "      <td>No</td>\n",
       "      <td>...</td>\n",
       "      <td>Very frequently</td>\n",
       "      <td>Very frequently</td>\n",
       "      <td>Never</td>\n",
       "      <td>Rarely</td>\n",
       "      <td>7.0</td>\n",
       "      <td>2.0</td>\n",
       "      <td>5.0</td>\n",
       "      <td>9.0</td>\n",
       "      <td>Improve</td>\n",
       "      <td>I understand.</td>\n",
       "    </tr>\n",
       "  </tbody>\n",
       "</table>\n",
       "<p>5 rows × 33 columns</p>\n",
       "</div>"
      ],
      "text/plain": [
       "            Timestamp   Age Primary streaming service  Hours per day  \\\n",
       "0  8/27/2022 19:29:02  18.0                   Spotify            3.0   \n",
       "1  8/27/2022 19:57:31  63.0                   Pandora            1.5   \n",
       "2  8/27/2022 21:28:18  18.0                   Spotify            4.0   \n",
       "3  8/27/2022 21:40:40  61.0             YouTube Music            2.5   \n",
       "4  8/27/2022 21:54:47  18.0                   Spotify            4.0   \n",
       "\n",
       "  While working Instrumentalist Composer         Fav genre Exploratory  \\\n",
       "0           Yes             Yes      Yes             Latin         Yes   \n",
       "1           Yes              No       No              Rock         Yes   \n",
       "2            No              No       No  Video game music          No   \n",
       "3           Yes              No      Yes              Jazz         Yes   \n",
       "4           Yes              No       No               R&B         Yes   \n",
       "\n",
       "  Foreign languages  ...  Frequency [R&B]  Frequency [Rap] Frequency [Rock]  \\\n",
       "0               Yes  ...        Sometimes  Very frequently            Never   \n",
       "1                No  ...        Sometimes           Rarely  Very frequently   \n",
       "2               Yes  ...            Never           Rarely           Rarely   \n",
       "3               Yes  ...        Sometimes            Never            Never   \n",
       "4                No  ...  Very frequently  Very frequently            Never   \n",
       "\n",
       "  Frequency [Video game music] Anxiety Depression Insomnia  OCD Music effects  \\\n",
       "0                    Sometimes     3.0        0.0      1.0  0.0           NaN   \n",
       "1                       Rarely     7.0        2.0      2.0  1.0           NaN   \n",
       "2              Very frequently     7.0        7.0     10.0  2.0     No effect   \n",
       "3                        Never     9.0        7.0      3.0  3.0       Improve   \n",
       "4                       Rarely     7.0        2.0      5.0  9.0       Improve   \n",
       "\n",
       "     Permissions  \n",
       "0  I understand.  \n",
       "1  I understand.  \n",
       "2  I understand.  \n",
       "3  I understand.  \n",
       "4  I understand.  \n",
       "\n",
       "[5 rows x 33 columns]"
      ]
     },
     "execution_count": 2,
     "metadata": {},
     "output_type": "execute_result"
    }
   ],
   "source": [
    "data = pd.read_csv('mxmh_survey_results.csv')\n",
    "data.head()"
   ]
  },
  {
   "cell_type": "markdown",
   "id": "741626c5",
   "metadata": {},
   "source": [
    "## Data cleaning and pre-processing"
   ]
  },
  {
   "cell_type": "code",
   "execution_count": 3,
   "id": "eac3c0da",
   "metadata": {
    "scrolled": true
   },
   "outputs": [
    {
     "data": {
      "text/plain": [
       "(736, 33)"
      ]
     },
     "execution_count": 3,
     "metadata": {},
     "output_type": "execute_result"
    }
   ],
   "source": [
    "data.shape"
   ]
  },
  {
   "cell_type": "code",
   "execution_count": 4,
   "id": "df8891ac",
   "metadata": {},
   "outputs": [],
   "source": [
    "data = data.drop(columns=['Timestamp','Permissions'])"
   ]
  },
  {
   "cell_type": "code",
   "execution_count": 5,
   "id": "ec306136",
   "metadata": {},
   "outputs": [
    {
     "data": {
      "text/plain": [
       "Age                               1\n",
       "Primary streaming service         1\n",
       "Hours per day                     0\n",
       "While working                     3\n",
       "Instrumentalist                   4\n",
       "Composer                          1\n",
       "Fav genre                         0\n",
       "Exploratory                       0\n",
       "Foreign languages                 4\n",
       "BPM                             107\n",
       "Frequency [Classical]             0\n",
       "Frequency [Country]               0\n",
       "Frequency [EDM]                   0\n",
       "Frequency [Folk]                  0\n",
       "Frequency [Gospel]                0\n",
       "Frequency [Hip hop]               0\n",
       "Frequency [Jazz]                  0\n",
       "Frequency [K pop]                 0\n",
       "Frequency [Latin]                 0\n",
       "Frequency [Lofi]                  0\n",
       "Frequency [Metal]                 0\n",
       "Frequency [Pop]                   0\n",
       "Frequency [R&B]                   0\n",
       "Frequency [Rap]                   0\n",
       "Frequency [Rock]                  0\n",
       "Frequency [Video game music]      0\n",
       "Anxiety                           0\n",
       "Depression                        0\n",
       "Insomnia                          0\n",
       "OCD                               0\n",
       "Music effects                     8\n",
       "dtype: int64"
      ]
     },
     "execution_count": 5,
     "metadata": {},
     "output_type": "execute_result"
    }
   ],
   "source": [
    "data.isnull().sum()"
   ]
  },
  {
   "cell_type": "code",
   "execution_count": 6,
   "id": "012e3036",
   "metadata": {},
   "outputs": [],
   "source": [
    "data = data.dropna(subset=['Age','Primary streaming service','Composer','While working','Instrumentalist','Foreign languages','Music effects'])"
   ]
  },
  {
   "cell_type": "code",
   "execution_count": 7,
   "id": "bb493929",
   "metadata": {},
   "outputs": [
    {
     "data": {
      "text/plain": [
       "(718, 31)"
      ]
     },
     "execution_count": 7,
     "metadata": {},
     "output_type": "execute_result"
    }
   ],
   "source": [
    "data.shape"
   ]
  },
  {
   "cell_type": "code",
   "execution_count": 8,
   "id": "9ffa8eb9",
   "metadata": {},
   "outputs": [
    {
     "data": {
      "text/plain": [
       "Age                               0\n",
       "Primary streaming service         0\n",
       "Hours per day                     0\n",
       "While working                     0\n",
       "Instrumentalist                   0\n",
       "Composer                          0\n",
       "Fav genre                         0\n",
       "Exploratory                       0\n",
       "Foreign languages                 0\n",
       "BPM                             102\n",
       "Frequency [Classical]             0\n",
       "Frequency [Country]               0\n",
       "Frequency [EDM]                   0\n",
       "Frequency [Folk]                  0\n",
       "Frequency [Gospel]                0\n",
       "Frequency [Hip hop]               0\n",
       "Frequency [Jazz]                  0\n",
       "Frequency [K pop]                 0\n",
       "Frequency [Latin]                 0\n",
       "Frequency [Lofi]                  0\n",
       "Frequency [Metal]                 0\n",
       "Frequency [Pop]                   0\n",
       "Frequency [R&B]                   0\n",
       "Frequency [Rap]                   0\n",
       "Frequency [Rock]                  0\n",
       "Frequency [Video game music]      0\n",
       "Anxiety                           0\n",
       "Depression                        0\n",
       "Insomnia                          0\n",
       "OCD                               0\n",
       "Music effects                     0\n",
       "dtype: int64"
      ]
     },
     "execution_count": 8,
     "metadata": {},
     "output_type": "execute_result"
    }
   ],
   "source": [
    "data.isna().sum()"
   ]
  },
  {
   "cell_type": "code",
   "execution_count": 9,
   "id": "f68123b0",
   "metadata": {},
   "outputs": [
    {
     "data": {
      "text/plain": [
       "2    132.0\n",
       "3     84.0\n",
       "4    107.0\n",
       "5     86.0\n",
       "6     66.0\n",
       "Name: BPM, dtype: float64"
      ]
     },
     "execution_count": 9,
     "metadata": {},
     "output_type": "execute_result"
    }
   ],
   "source": [
    "data['BPM'].head()"
   ]
  },
  {
   "cell_type": "code",
   "execution_count": 10,
   "id": "4f2e368b",
   "metadata": {},
   "outputs": [
    {
     "name": "stdout",
     "output_type": "stream",
     "text": [
      "The mean BPM is:  1623500.0016233767\n"
     ]
    }
   ],
   "source": [
    "mean_bpm = data['BPM'].mean()\n",
    "print(\"The mean BPM is: \", mean_bpm)"
   ]
  },
  {
   "cell_type": "markdown",
   "id": "13cf1ce9",
   "metadata": {},
   "source": [
    "#### Assessing the null values for each genre"
   ]
  },
  {
   "cell_type": "code",
   "execution_count": 11,
   "id": "651c8b15",
   "metadata": {
    "scrolled": true
   },
   "outputs": [
    {
     "data": {
      "text/plain": [
       "array(['Video game music', 'Jazz', 'R&B', 'K pop', 'Rock', 'Country',\n",
       "       'EDM', 'Pop', 'Hip hop', 'Rap', 'Classical', 'Metal', 'Folk',\n",
       "       'Lofi', 'Gospel', 'Latin'], dtype=object)"
      ]
     },
     "execution_count": 11,
     "metadata": {},
     "output_type": "execute_result"
    }
   ],
   "source": [
    "data['Fav genre'].unique()"
   ]
  },
  {
   "cell_type": "code",
   "execution_count": 12,
   "id": "4f880bb1",
   "metadata": {},
   "outputs": [],
   "source": [
    "bpm_jazz = data.loc[data['Fav genre']== 'Jazz',['Fav genre','BPM']]"
   ]
  },
  {
   "cell_type": "code",
   "execution_count": 13,
   "id": "b05e86c4",
   "metadata": {},
   "outputs": [],
   "source": [
    "bpm_jazz_mean = bpm_jazz['BPM'].mean()"
   ]
  },
  {
   "cell_type": "code",
   "execution_count": 14,
   "id": "c617a290",
   "metadata": {},
   "outputs": [
    {
     "name": "stdout",
     "output_type": "stream",
     "text": [
      "The average BPM for Jazz music lovers is... 124.47368421052632\n"
     ]
    }
   ],
   "source": [
    "print(\"The average BPM for Jazz music lovers is...\", bpm_jazz_mean)"
   ]
  },
  {
   "cell_type": "code",
   "execution_count": 15,
   "id": "a72d1a47",
   "metadata": {},
   "outputs": [
    {
     "data": {
      "text/html": [
       "<div>\n",
       "<style scoped>\n",
       "    .dataframe tbody tr th:only-of-type {\n",
       "        vertical-align: middle;\n",
       "    }\n",
       "\n",
       "    .dataframe tbody tr th {\n",
       "        vertical-align: top;\n",
       "    }\n",
       "\n",
       "    .dataframe thead th {\n",
       "        text-align: right;\n",
       "    }\n",
       "</style>\n",
       "<table border=\"1\" class=\"dataframe\">\n",
       "  <thead>\n",
       "    <tr style=\"text-align: right;\">\n",
       "      <th></th>\n",
       "      <th>Fav genre</th>\n",
       "      <th>BPM</th>\n",
       "    </tr>\n",
       "  </thead>\n",
       "  <tbody>\n",
       "    <tr>\n",
       "      <th>3</th>\n",
       "      <td>Jazz</td>\n",
       "      <td>84.0</td>\n",
       "    </tr>\n",
       "    <tr>\n",
       "      <th>5</th>\n",
       "      <td>Jazz</td>\n",
       "      <td>86.0</td>\n",
       "    </tr>\n",
       "    <tr>\n",
       "      <th>14</th>\n",
       "      <td>Jazz</td>\n",
       "      <td>148.0</td>\n",
       "    </tr>\n",
       "    <tr>\n",
       "      <th>75</th>\n",
       "      <td>Jazz</td>\n",
       "      <td>167.0</td>\n",
       "    </tr>\n",
       "    <tr>\n",
       "      <th>81</th>\n",
       "      <td>Jazz</td>\n",
       "      <td>118.0</td>\n",
       "    </tr>\n",
       "  </tbody>\n",
       "</table>\n",
       "</div>"
      ],
      "text/plain": [
       "   Fav genre    BPM\n",
       "3       Jazz   84.0\n",
       "5       Jazz   86.0\n",
       "14      Jazz  148.0\n",
       "75      Jazz  167.0\n",
       "81      Jazz  118.0"
      ]
     },
     "execution_count": 15,
     "metadata": {},
     "output_type": "execute_result"
    }
   ],
   "source": [
    "bpm_jazz.head()"
   ]
  },
  {
   "cell_type": "code",
   "execution_count": 16,
   "id": "8df72ba5",
   "metadata": {},
   "outputs": [
    {
     "data": {
      "text/html": [
       "<div>\n",
       "<style scoped>\n",
       "    .dataframe tbody tr th:only-of-type {\n",
       "        vertical-align: middle;\n",
       "    }\n",
       "\n",
       "    .dataframe tbody tr th {\n",
       "        vertical-align: top;\n",
       "    }\n",
       "\n",
       "    .dataframe thead th {\n",
       "        text-align: right;\n",
       "    }\n",
       "</style>\n",
       "<table border=\"1\" class=\"dataframe\">\n",
       "  <thead>\n",
       "    <tr style=\"text-align: right;\">\n",
       "      <th></th>\n",
       "      <th>BPM</th>\n",
       "    </tr>\n",
       "  </thead>\n",
       "  <tbody>\n",
       "    <tr>\n",
       "      <th>count</th>\n",
       "      <td>19.000000</td>\n",
       "    </tr>\n",
       "    <tr>\n",
       "      <th>mean</th>\n",
       "      <td>124.473684</td>\n",
       "    </tr>\n",
       "    <tr>\n",
       "      <th>std</th>\n",
       "      <td>36.925403</td>\n",
       "    </tr>\n",
       "    <tr>\n",
       "      <th>min</th>\n",
       "      <td>81.000000</td>\n",
       "    </tr>\n",
       "    <tr>\n",
       "      <th>25%</th>\n",
       "      <td>91.500000</td>\n",
       "    </tr>\n",
       "    <tr>\n",
       "      <th>50%</th>\n",
       "      <td>120.000000</td>\n",
       "    </tr>\n",
       "    <tr>\n",
       "      <th>75%</th>\n",
       "      <td>144.000000</td>\n",
       "    </tr>\n",
       "    <tr>\n",
       "      <th>max</th>\n",
       "      <td>200.000000</td>\n",
       "    </tr>\n",
       "  </tbody>\n",
       "</table>\n",
       "</div>"
      ],
      "text/plain": [
       "              BPM\n",
       "count   19.000000\n",
       "mean   124.473684\n",
       "std     36.925403\n",
       "min     81.000000\n",
       "25%     91.500000\n",
       "50%    120.000000\n",
       "75%    144.000000\n",
       "max    200.000000"
      ]
     },
     "execution_count": 16,
     "metadata": {},
     "output_type": "execute_result"
    }
   ],
   "source": [
    "bpm_jazz.describe()"
   ]
  },
  {
   "cell_type": "code",
   "execution_count": 17,
   "id": "f21bde89",
   "metadata": {},
   "outputs": [
    {
     "data": {
      "text/plain": [
       "1"
      ]
     },
     "execution_count": 17,
     "metadata": {},
     "output_type": "execute_result"
    }
   ],
   "source": [
    "bpm_jazz['BPM'].isna().sum()"
   ]
  },
  {
   "cell_type": "code",
   "execution_count": 18,
   "id": "07d4f925",
   "metadata": {
    "scrolled": true
   },
   "outputs": [
    {
     "data": {
      "text/plain": [
       "(array([5., 2., 1., 3., 3., 2., 0., 1., 0., 2.]),\n",
       " array([ 81. ,  92.9, 104.8, 116.7, 128.6, 140.5, 152.4, 164.3, 176.2,\n",
       "        188.1, 200. ]),\n",
       " <BarContainer object of 10 artists>)"
      ]
     },
     "execution_count": 18,
     "metadata": {},
     "output_type": "execute_result"
    },
    {
     "data": {
      "image/png": "[encoded data removed]",
      "text/plain": [
       "<Figure size 640x480 with 1 Axes>"
      ]
     },
     "metadata": {},
     "output_type": "display_data"
    }
   ],
   "source": [
    "plt.hist(bpm_jazz['BPM'])"
   ]
  },
  {
   "cell_type": "code",
   "execution_count": 19,
   "id": "7e945d04",
   "metadata": {},
   "outputs": [
    {
     "name": "stdout",
     "output_type": "stream",
     "text": [
      "The standard deviation is... 36.92540291069224\n"
     ]
    }
   ],
   "source": [
    "jazzbpm_std = bpm_jazz['BPM'].std()\n",
    "print('The standard deviation is...',jazzbpm_std)"
   ]
  },
  {
   "cell_type": "code",
   "execution_count": 20,
   "id": "de8f3587",
   "metadata": {
    "scrolled": true
   },
   "outputs": [],
   "source": [
    "bpm_jazz['bpm_jazz_z'] = 0\n",
    "for i in bpm_jazz['BPM']:\n",
    "    z = ((i-bpm_jazz_mean)/jazzbpm_std)\n",
    "    idx = bpm_jazz[bpm_jazz['BPM'] ==i].index\n",
    "    bpm_jazz.loc[idx, \"bpm_jazz_z\"] =z"
   ]
  },
  {
   "cell_type": "code",
   "execution_count": 21,
   "id": "2c7f713a",
   "metadata": {},
   "outputs": [
    {
     "data": {
      "text/plain": [
       "3    -1.096093\n",
       "5    -1.041930\n",
       "14    0.637131\n",
       "75    1.151682\n",
       "81   -0.175318\n",
       "Name: bpm_jazz_z, dtype: float64"
      ]
     },
     "execution_count": 21,
     "metadata": {},
     "output_type": "execute_result"
    }
   ],
   "source": [
    "bpm_jazz['bpm_jazz_z'].head()"
   ]
  },
  {
   "cell_type": "code",
   "execution_count": 22,
   "id": "009b8e3b",
   "metadata": {},
   "outputs": [],
   "source": [
    "bpm_jazz['isOutlierBPM'] = 0"
   ]
  },
  {
   "cell_type": "code",
   "execution_count": 23,
   "id": "f8a6ca0c",
   "metadata": {
    "scrolled": true
   },
   "outputs": [],
   "source": [
    "for z in bpm_jazz['bpm_jazz_z']:\n",
    "    if (z < -3) | (z > 3):\n",
    "        idx = bpm_jazz[bpm_jazz['bpm_jazz_z']==z].index\n",
    "        bpm_jazz.loc[idx, 'isOutlierBPM'] =1"
   ]
  },
  {
   "cell_type": "code",
   "execution_count": 24,
   "id": "1fdf96cd",
   "metadata": {},
   "outputs": [
    {
     "data": {
      "text/plain": [
       "array([0])"
      ]
     },
     "execution_count": 24,
     "metadata": {},
     "output_type": "execute_result"
    }
   ],
   "source": [
    "bpm_jazz['isOutlierBPM'].unique()"
   ]
  },
  {
   "cell_type": "code",
   "execution_count": 25,
   "id": "44928262",
   "metadata": {},
   "outputs": [],
   "source": [
    "bpm_jazz = bpm_jazz.drop(columns=['isOutlierBPM'])"
   ]
  },
  {
   "cell_type": "code",
   "execution_count": 26,
   "id": "47568865",
   "metadata": {},
   "outputs": [],
   "source": [
    "bpm_jazz_med = bpm_jazz['BPM'].median()"
   ]
  },
  {
   "cell_type": "code",
   "execution_count": 27,
   "id": "0b563b3d",
   "metadata": {},
   "outputs": [
    {
     "name": "stdout",
     "output_type": "stream",
     "text": [
      "The median BPM for Jazz is... 120.0\n"
     ]
    }
   ],
   "source": [
    "print('The median BPM for Jazz is...',bpm_jazz_med)"
   ]
  },
  {
   "cell_type": "code",
   "execution_count": 28,
   "id": "94158b84",
   "metadata": {
    "scrolled": true
   },
   "outputs": [],
   "source": [
    "for i in data['Fav genre']:\n",
    "    if i=='Jazz':\n",
    "        idx = data[data['Fav genre']==i].index\n",
    "        isNa = pd.isnull(data.loc[idx,'BPM'])\n",
    "        if isNa.any():\n",
    "            data.loc[idx,'BPM'] = bpm_jazz_med"
   ]
  },
  {
   "cell_type": "code",
   "execution_count": 29,
   "id": "497d1ac3",
   "metadata": {},
   "outputs": [
    {
     "data": {
      "text/plain": [
       "101"
      ]
     },
     "execution_count": 29,
     "metadata": {},
     "output_type": "execute_result"
    }
   ],
   "source": [
    "data['BPM'].isnull().sum()"
   ]
  },
  {
   "cell_type": "code",
   "execution_count": 30,
   "id": "9f31ba9d",
   "metadata": {},
   "outputs": [],
   "source": [
    "bpm_vid = data.loc[data['Fav genre']== 'Video game music',['Fav genre','BPM']]"
   ]
  },
  {
   "cell_type": "code",
   "execution_count": 31,
   "id": "4e5e914e",
   "metadata": {},
   "outputs": [],
   "source": [
    "bpm_vid_mean = bpm_vid['BPM'].mean()"
   ]
  },
  {
   "cell_type": "code",
   "execution_count": 32,
   "id": "936ba2da",
   "metadata": {},
   "outputs": [
    {
     "name": "stdout",
     "output_type": "stream",
     "text": [
      "The mean BPM for video game music is...  27777895.027777776\n"
     ]
    }
   ],
   "source": [
    "print(\"The mean BPM for video game music is... \",bpm_vid_mean)"
   ]
  },
  {
   "cell_type": "code",
   "execution_count": 33,
   "id": "3d769827",
   "metadata": {},
   "outputs": [
    {
     "data": {
      "text/html": [
       "<div>\n",
       "<style scoped>\n",
       "    .dataframe tbody tr th:only-of-type {\n",
       "        vertical-align: middle;\n",
       "    }\n",
       "\n",
       "    .dataframe tbody tr th {\n",
       "        vertical-align: top;\n",
       "    }\n",
       "\n",
       "    .dataframe thead th {\n",
       "        text-align: right;\n",
       "    }\n",
       "</style>\n",
       "<table border=\"1\" class=\"dataframe\">\n",
       "  <thead>\n",
       "    <tr style=\"text-align: right;\">\n",
       "      <th></th>\n",
       "      <th>BPM</th>\n",
       "    </tr>\n",
       "  </thead>\n",
       "  <tbody>\n",
       "    <tr>\n",
       "      <th>count</th>\n",
       "      <td>3.600000e+01</td>\n",
       "    </tr>\n",
       "    <tr>\n",
       "      <th>mean</th>\n",
       "      <td>2.777790e+07</td>\n",
       "    </tr>\n",
       "    <tr>\n",
       "      <th>std</th>\n",
       "      <td>1.666666e+08</td>\n",
       "    </tr>\n",
       "    <tr>\n",
       "      <th>min</th>\n",
       "      <td>6.000000e+01</td>\n",
       "    </tr>\n",
       "    <tr>\n",
       "      <th>25%</th>\n",
       "      <td>9.500000e+01</td>\n",
       "    </tr>\n",
       "    <tr>\n",
       "      <th>50%</th>\n",
       "      <td>1.225000e+02</td>\n",
       "    </tr>\n",
       "    <tr>\n",
       "      <th>75%</th>\n",
       "      <td>1.475000e+02</td>\n",
       "    </tr>\n",
       "    <tr>\n",
       "      <th>max</th>\n",
       "      <td>1.000000e+09</td>\n",
       "    </tr>\n",
       "  </tbody>\n",
       "</table>\n",
       "</div>"
      ],
      "text/plain": [
       "                BPM\n",
       "count  3.600000e+01\n",
       "mean   2.777790e+07\n",
       "std    1.666666e+08\n",
       "min    6.000000e+01\n",
       "25%    9.500000e+01\n",
       "50%    1.225000e+02\n",
       "75%    1.475000e+02\n",
       "max    1.000000e+09"
      ]
     },
     "execution_count": 33,
     "metadata": {},
     "output_type": "execute_result"
    }
   ],
   "source": [
    "bpm_vid.describe()"
   ]
  },
  {
   "cell_type": "code",
   "execution_count": 34,
   "id": "b50f5585",
   "metadata": {
    "scrolled": true
   },
   "outputs": [
    {
     "data": {
      "text/plain": [
       "7"
      ]
     },
     "execution_count": 34,
     "metadata": {},
     "output_type": "execute_result"
    }
   ],
   "source": [
    "bpm_vid['BPM'].isna().sum()"
   ]
  },
  {
   "cell_type": "code",
   "execution_count": 35,
   "id": "c6cf2b50",
   "metadata": {},
   "outputs": [],
   "source": [
    "vid_bpm_std = bpm_vid['BPM'].std()\n",
    "vid_bpm_mean = bpm_vid['BPM'].mean()"
   ]
  },
  {
   "cell_type": "code",
   "execution_count": 36,
   "id": "cc934a5f",
   "metadata": {},
   "outputs": [],
   "source": [
    "bpm_vid['bpm_vid_z'] = 0\n",
    "for i in bpm_vid['BPM']:\n",
    "    z = ((i-vid_bpm_mean)/vid_bpm_std)\n",
    "    idx = bpm_vid[bpm_vid['BPM'] ==i].index\n",
    "    bpm_vid.loc[idx, \"bpm_vid_z\"] =z"
   ]
  },
  {
   "cell_type": "code",
   "execution_count": 37,
   "id": "b5f6a72c",
   "metadata": {},
   "outputs": [],
   "source": [
    "bpm_vid['isOutlierBPM'] = 0"
   ]
  },
  {
   "cell_type": "code",
   "execution_count": 38,
   "id": "548e7ef6",
   "metadata": {},
   "outputs": [],
   "source": [
    "for z in bpm_vid['bpm_vid_z']:\n",
    "    if (z < -3) | (z > 3):\n",
    "        idx = bpm_vid[bpm_vid['bpm_vid_z']==z].index\n",
    "        bpm_vid.loc[idx, 'isOutlierBPM'] =1"
   ]
  },
  {
   "cell_type": "code",
   "execution_count": 39,
   "id": "ea36f5e2",
   "metadata": {},
   "outputs": [
    {
     "data": {
      "text/plain": [
       "array([0, 1])"
      ]
     },
     "execution_count": 39,
     "metadata": {},
     "output_type": "execute_result"
    }
   ],
   "source": [
    "bpm_vid['isOutlierBPM'].unique()"
   ]
  },
  {
   "cell_type": "code",
   "execution_count": 40,
   "id": "a4070fe4",
   "metadata": {},
   "outputs": [
    {
     "name": "stdout",
     "output_type": "stream",
     "text": [
      "Int64Index([568], dtype='int64')\n",
      "568    999999999.0\n",
      "Name: BPM, dtype: float64\n"
     ]
    }
   ],
   "source": [
    "outlier_index = []\n",
    "for i in bpm_vid['isOutlierBPM']:\n",
    "    if i==1:\n",
    "        idx = bpm_vid[bpm_vid['isOutlierBPM']==i].index\n",
    "        bpm = bpm_vid.loc[idx, 'BPM']\n",
    "        outlier_index.append(idx)\n",
    "        print(idx)\n",
    "        print(bpm)"
   ]
  },
  {
   "cell_type": "code",
   "execution_count": 41,
   "id": "56643f04",
   "metadata": {},
   "outputs": [
    {
     "name": "stdout",
     "output_type": "stream",
     "text": [
      "The median BPM for video game music listeners is... 122\n"
     ]
    }
   ],
   "source": [
    "bpm_vid_median = int(bpm_vid['BPM'].median())\n",
    "print('The median BPM for video game music listeners is...',bpm_vid_median)"
   ]
  },
  {
   "cell_type": "code",
   "execution_count": 42,
   "id": "f8c4f59f",
   "metadata": {},
   "outputs": [],
   "source": [
    "for i in outlier_index:\n",
    "    data.loc[i, 'BPM'] = bpm_vid_median\n",
    "    bpm_vid.loc[i,'BPM'] = bpm_vid_median"
   ]
  },
  {
   "cell_type": "code",
   "execution_count": 43,
   "id": "302d39ce",
   "metadata": {},
   "outputs": [],
   "source": [
    "for i in data['Fav genre']:\n",
    "    if i=='Video game music':\n",
    "        idx = data[data['Fav genre']==i].index\n",
    "        isNa = pd.isnull(data.loc[idx,'BPM'])\n",
    "        if isNa.any():\n",
    "            data.loc[idx,'BPM'] = bpm_vid_median"
   ]
  },
  {
   "cell_type": "code",
   "execution_count": 44,
   "id": "2963ed97",
   "metadata": {},
   "outputs": [
    {
     "data": {
      "text/plain": [
       "94"
      ]
     },
     "execution_count": 44,
     "metadata": {},
     "output_type": "execute_result"
    }
   ],
   "source": [
    "data['BPM'].isna().sum()"
   ]
  },
  {
   "cell_type": "code",
   "execution_count": 45,
   "id": "877f4c6e",
   "metadata": {},
   "outputs": [],
   "source": [
    "bpm_rb = data.loc[data['Fav genre']== 'R&B',['Fav genre','BPM']]"
   ]
  },
  {
   "cell_type": "code",
   "execution_count": 46,
   "id": "6c8f3c7a",
   "metadata": {},
   "outputs": [
    {
     "data": {
      "text/html": [
       "<div>\n",
       "<style scoped>\n",
       "    .dataframe tbody tr th:only-of-type {\n",
       "        vertical-align: middle;\n",
       "    }\n",
       "\n",
       "    .dataframe tbody tr th {\n",
       "        vertical-align: top;\n",
       "    }\n",
       "\n",
       "    .dataframe thead th {\n",
       "        text-align: right;\n",
       "    }\n",
       "</style>\n",
       "<table border=\"1\" class=\"dataframe\">\n",
       "  <thead>\n",
       "    <tr style=\"text-align: right;\">\n",
       "      <th></th>\n",
       "      <th>Fav genre</th>\n",
       "      <th>BPM</th>\n",
       "    </tr>\n",
       "  </thead>\n",
       "  <tbody>\n",
       "    <tr>\n",
       "      <th>4</th>\n",
       "      <td>R&amp;B</td>\n",
       "      <td>107.0</td>\n",
       "    </tr>\n",
       "    <tr>\n",
       "      <th>9</th>\n",
       "      <td>R&amp;B</td>\n",
       "      <td>155.0</td>\n",
       "    </tr>\n",
       "    <tr>\n",
       "      <th>22</th>\n",
       "      <td>R&amp;B</td>\n",
       "      <td>118.0</td>\n",
       "    </tr>\n",
       "    <tr>\n",
       "      <th>77</th>\n",
       "      <td>R&amp;B</td>\n",
       "      <td>110.0</td>\n",
       "    </tr>\n",
       "    <tr>\n",
       "      <th>84</th>\n",
       "      <td>R&amp;B</td>\n",
       "      <td>77.0</td>\n",
       "    </tr>\n",
       "  </tbody>\n",
       "</table>\n",
       "</div>"
      ],
      "text/plain": [
       "   Fav genre    BPM\n",
       "4        R&B  107.0\n",
       "9        R&B  155.0\n",
       "22       R&B  118.0\n",
       "77       R&B  110.0\n",
       "84       R&B   77.0"
      ]
     },
     "execution_count": 46,
     "metadata": {},
     "output_type": "execute_result"
    }
   ],
   "source": [
    "bpm_rb.head()"
   ]
  },
  {
   "cell_type": "code",
   "execution_count": 47,
   "id": "29d35cbd",
   "metadata": {
    "scrolled": true
   },
   "outputs": [
    {
     "data": {
      "text/plain": [
       "5"
      ]
     },
     "execution_count": 47,
     "metadata": {},
     "output_type": "execute_result"
    }
   ],
   "source": [
    "bpm_rb['BPM'].isna().sum()"
   ]
  },
  {
   "cell_type": "code",
   "execution_count": 48,
   "id": "2c015b9a",
   "metadata": {},
   "outputs": [
    {
     "name": "stdout",
     "output_type": "stream",
     "text": [
      "The mean BPM for R&M music lovers is.... 114.16666666666667\n"
     ]
    }
   ],
   "source": [
    "mean_bpm_rb = bpm_rb['BPM'].mean()\n",
    "print(\"The mean BPM for R&M music lovers is....\", mean_bpm_rb)"
   ]
  },
  {
   "cell_type": "code",
   "execution_count": 49,
   "id": "9038a81c",
   "metadata": {},
   "outputs": [
    {
     "data": {
      "text/html": [
       "<div>\n",
       "<style scoped>\n",
       "    .dataframe tbody tr th:only-of-type {\n",
       "        vertical-align: middle;\n",
       "    }\n",
       "\n",
       "    .dataframe tbody tr th {\n",
       "        vertical-align: top;\n",
       "    }\n",
       "\n",
       "    .dataframe thead th {\n",
       "        text-align: right;\n",
       "    }\n",
       "</style>\n",
       "<table border=\"1\" class=\"dataframe\">\n",
       "  <thead>\n",
       "    <tr style=\"text-align: right;\">\n",
       "      <th></th>\n",
       "      <th>BPM</th>\n",
       "    </tr>\n",
       "  </thead>\n",
       "  <tbody>\n",
       "    <tr>\n",
       "      <th>count</th>\n",
       "      <td>30.000000</td>\n",
       "    </tr>\n",
       "    <tr>\n",
       "      <th>mean</th>\n",
       "      <td>114.166667</td>\n",
       "    </tr>\n",
       "    <tr>\n",
       "      <th>std</th>\n",
       "      <td>35.359321</td>\n",
       "    </tr>\n",
       "    <tr>\n",
       "      <th>min</th>\n",
       "      <td>4.000000</td>\n",
       "    </tr>\n",
       "    <tr>\n",
       "      <th>25%</th>\n",
       "      <td>90.000000</td>\n",
       "    </tr>\n",
       "    <tr>\n",
       "      <th>50%</th>\n",
       "      <td>115.500000</td>\n",
       "    </tr>\n",
       "    <tr>\n",
       "      <th>75%</th>\n",
       "      <td>144.500000</td>\n",
       "    </tr>\n",
       "    <tr>\n",
       "      <th>max</th>\n",
       "      <td>169.000000</td>\n",
       "    </tr>\n",
       "  </tbody>\n",
       "</table>\n",
       "</div>"
      ],
      "text/plain": [
       "              BPM\n",
       "count   30.000000\n",
       "mean   114.166667\n",
       "std     35.359321\n",
       "min      4.000000\n",
       "25%     90.000000\n",
       "50%    115.500000\n",
       "75%    144.500000\n",
       "max    169.000000"
      ]
     },
     "execution_count": 49,
     "metadata": {},
     "output_type": "execute_result"
    }
   ],
   "source": [
    "bpm_rb.describe()"
   ]
  },
  {
   "cell_type": "code",
   "execution_count": 50,
   "id": "f6d29831",
   "metadata": {},
   "outputs": [
    {
     "name": "stdout",
     "output_type": "stream",
     "text": [
      "The BPM standard deviation for R&B music lovers is... 35.359321390482066\n"
     ]
    }
   ],
   "source": [
    "#Checking for outliers\n",
    "bpm_rb_std = bpm_rb[\"BPM\"].std()\n",
    "print('The BPM standard deviation for R&B music lovers is...', bpm_rb_std)"
   ]
  },
  {
   "cell_type": "code",
   "execution_count": 51,
   "id": "f225e09d",
   "metadata": {},
   "outputs": [],
   "source": [
    "bpm_rb['z_scores'] = 0\n",
    "for i in bpm_rb['BPM']:\n",
    "    z = ((i-mean_bpm_rb)/bpm_rb_std)\n",
    "    idx = bpm_rb[bpm_rb['BPM'] ==i].index\n",
    "    bpm_rb.loc[idx, \"z_scores\"] =z"
   ]
  },
  {
   "cell_type": "code",
   "execution_count": 52,
   "id": "aff41142",
   "metadata": {},
   "outputs": [],
   "source": [
    "bpm_rb['isOutlierBPM'] = 0\n",
    "for z in bpm_rb['z_scores']:\n",
    "    if (z < -3) | (z > 3):\n",
    "        idx = bpm_rb[bpm_rb['z_scores']==z].index\n",
    "        bpm_rb.loc[idx, 'isOutlierBPM'] =1"
   ]
  },
  {
   "cell_type": "code",
   "execution_count": 53,
   "id": "4600604f",
   "metadata": {},
   "outputs": [
    {
     "data": {
      "text/plain": [
       "array([0, 1])"
      ]
     },
     "execution_count": 53,
     "metadata": {},
     "output_type": "execute_result"
    }
   ],
   "source": [
    "bpm_rb['isOutlierBPM'].unique() #there are outliers"
   ]
  },
  {
   "cell_type": "code",
   "execution_count": 54,
   "id": "04ad44e9",
   "metadata": {},
   "outputs": [
    {
     "name": "stdout",
     "output_type": "stream",
     "text": [
      "Int64Index([429], dtype='int64')\n",
      "429    4.0\n",
      "Name: BPM, dtype: float64\n"
     ]
    }
   ],
   "source": [
    "outlier_index = []\n",
    "for i in bpm_rb['isOutlierBPM']:\n",
    "    if i==1:\n",
    "        idx = bpm_rb[bpm_rb['isOutlierBPM']==i].index\n",
    "        bpm = bpm_rb.loc[idx, 'BPM']\n",
    "        outlier_index.append(idx)\n",
    "        print(idx)\n",
    "        print(bpm)"
   ]
  },
  {
   "cell_type": "code",
   "execution_count": 55,
   "id": "61318eb2",
   "metadata": {},
   "outputs": [
    {
     "name": "stdout",
     "output_type": "stream",
     "text": [
      "The media BPM for R&B music lovers is... 115\n"
     ]
    }
   ],
   "source": [
    "median_rb_bpm = int(bpm_rb['BPM'].median())\n",
    "print(\"The media BPM for R&B music lovers is...\", median_rb_bpm)"
   ]
  },
  {
   "cell_type": "code",
   "execution_count": 56,
   "id": "b2eb8635",
   "metadata": {},
   "outputs": [],
   "source": [
    "for i in outlier_index:\n",
    "    data.loc[i, 'BPM'] = median_rb_bpm\n",
    "    bpm_rb.loc[i,'BPM'] = median_rb_bpm"
   ]
  },
  {
   "cell_type": "code",
   "execution_count": 57,
   "id": "36f064f7",
   "metadata": {},
   "outputs": [],
   "source": [
    "for i in data['Fav genre']:\n",
    "    if i=='R&B':\n",
    "        idx = data[data['Fav genre']==i].index\n",
    "        isNa = pd.isnull(data.loc[idx,'BPM'])\n",
    "        if isNa.any():\n",
    "            data.loc[idx,'BPM'] = median_rb_bpm"
   ]
  },
  {
   "cell_type": "code",
   "execution_count": 58,
   "id": "834eea1c",
   "metadata": {},
   "outputs": [
    {
     "data": {
      "text/plain": [
       "89"
      ]
     },
     "execution_count": 58,
     "metadata": {},
     "output_type": "execute_result"
    }
   ],
   "source": [
    "data['BPM'].isna().sum()"
   ]
  },
  {
   "cell_type": "code",
   "execution_count": 59,
   "id": "94141ce4",
   "metadata": {},
   "outputs": [
    {
     "data": {
      "text/plain": [
       "array(['Video game music', 'Jazz', 'R&B', 'K pop', 'Rock', 'Country',\n",
       "       'EDM', 'Pop', 'Hip hop', 'Rap', 'Classical', 'Metal', 'Folk',\n",
       "       'Lofi', 'Gospel', 'Latin'], dtype=object)"
      ]
     },
     "execution_count": 59,
     "metadata": {},
     "output_type": "execute_result"
    }
   ],
   "source": [
    "data['Fav genre'].unique()"
   ]
  },
  {
   "cell_type": "code",
   "execution_count": 60,
   "id": "9ca9ad2a",
   "metadata": {},
   "outputs": [],
   "source": [
    "bpm_kpop = data.loc[data['Fav genre']== 'K pop',['Fav genre','BPM']]"
   ]
  },
  {
   "cell_type": "code",
   "execution_count": 61,
   "id": "29f3c5a6",
   "metadata": {},
   "outputs": [
    {
     "data": {
      "text/plain": [
       "0"
      ]
     },
     "execution_count": 61,
     "metadata": {},
     "output_type": "execute_result"
    }
   ],
   "source": [
    "bpm_kpop['BPM'].isna().sum() #yay"
   ]
  },
  {
   "cell_type": "code",
   "execution_count": 62,
   "id": "24cc2d51",
   "metadata": {},
   "outputs": [
    {
     "name": "stdout",
     "output_type": "stream",
     "text": [
      "The mean BPM for K-Pop lovers is... 128.9047619047619\n",
      "The standard deviation for BPM for K-Pop lovers is... 30.8818794148037\n"
     ]
    }
   ],
   "source": [
    "#calculating the mean and standard deviation\n",
    "mean_kpop_bpm = bpm_kpop['BPM'].mean()\n",
    "std_kpop_bpm = bpm_kpop['BPM'].std()\n",
    "\n",
    "print(\"The mean BPM for K-Pop lovers is...\", mean_kpop_bpm)\n",
    "print(\"The standard deviation for BPM for K-Pop lovers is...\", std_kpop_bpm)"
   ]
  },
  {
   "cell_type": "code",
   "execution_count": 63,
   "id": "d45568d0",
   "metadata": {},
   "outputs": [],
   "source": [
    "bpm_kpop['z-scores'] = 0\n",
    "for i in bpm_kpop['BPM']:\n",
    "    z = ((i-mean_kpop_bpm)/std_kpop_bpm)\n",
    "    idx = bpm_kpop[bpm_kpop['BPM'] ==i].index\n",
    "    bpm_kpop.loc[idx, \"z_scores\"] =z"
   ]
  },
  {
   "cell_type": "code",
   "execution_count": 64,
   "id": "f4816fb5",
   "metadata": {},
   "outputs": [],
   "source": [
    "bpm_kpop['isOutlierBPM'] = 0\n",
    "for z in bpm_kpop['z-scores']:\n",
    "    if (z < -3) | (z > 3):\n",
    "        idx = bpm_kpop[bpm_kpop['z-scores']==z].index\n",
    "        bpm_kpop.loc[idx, 'isOutlierBPM'] =1"
   ]
  },
  {
   "cell_type": "code",
   "execution_count": 65,
   "id": "3619b0a9",
   "metadata": {},
   "outputs": [
    {
     "data": {
      "text/plain": [
       "array([0])"
      ]
     },
     "execution_count": 65,
     "metadata": {},
     "output_type": "execute_result"
    }
   ],
   "source": [
    "bpm_kpop['isOutlierBPM'].unique() #no outliers yay!"
   ]
  },
  {
   "cell_type": "code",
   "execution_count": 66,
   "id": "c747aaae",
   "metadata": {},
   "outputs": [
    {
     "data": {
      "text/plain": [
       "array(['Video game music', 'Jazz', 'R&B', 'K pop', 'Rock', 'Country',\n",
       "       'EDM', 'Pop', 'Hip hop', 'Rap', 'Classical', 'Metal', 'Folk',\n",
       "       'Lofi', 'Gospel', 'Latin'], dtype=object)"
      ]
     },
     "execution_count": 66,
     "metadata": {},
     "output_type": "execute_result"
    }
   ],
   "source": [
    "data['Fav genre'].unique()"
   ]
  },
  {
   "cell_type": "code",
   "execution_count": 67,
   "id": "d2e9b143",
   "metadata": {},
   "outputs": [],
   "source": [
    "bpm_rock = data.loc[data['Fav genre']=='Rock', ['Fav genre','BPM']]"
   ]
  },
  {
   "cell_type": "code",
   "execution_count": 68,
   "id": "2b46dd8f",
   "metadata": {},
   "outputs": [
    {
     "data": {
      "text/plain": [
       "35"
      ]
     },
     "execution_count": 68,
     "metadata": {},
     "output_type": "execute_result"
    }
   ],
   "source": [
    "bpm_rock['BPM'].isna().sum()"
   ]
  },
  {
   "cell_type": "code",
   "execution_count": 69,
   "id": "8ba15021",
   "metadata": {},
   "outputs": [
    {
     "data": {
      "text/plain": [
       "(184, 2)"
      ]
     },
     "execution_count": 69,
     "metadata": {},
     "output_type": "execute_result"
    }
   ],
   "source": [
    "bpm_rock.shape"
   ]
  },
  {
   "cell_type": "code",
   "execution_count": 70,
   "id": "798acec7",
   "metadata": {},
   "outputs": [
    {
     "data": {
      "text/html": [
       "<div>\n",
       "<style scoped>\n",
       "    .dataframe tbody tr th:only-of-type {\n",
       "        vertical-align: middle;\n",
       "    }\n",
       "\n",
       "    .dataframe tbody tr th {\n",
       "        vertical-align: top;\n",
       "    }\n",
       "\n",
       "    .dataframe thead th {\n",
       "        text-align: right;\n",
       "    }\n",
       "</style>\n",
       "<table border=\"1\" class=\"dataframe\">\n",
       "  <thead>\n",
       "    <tr style=\"text-align: right;\">\n",
       "      <th></th>\n",
       "      <th>BPM</th>\n",
       "    </tr>\n",
       "  </thead>\n",
       "  <tbody>\n",
       "    <tr>\n",
       "      <th>count</th>\n",
       "      <td>149.000000</td>\n",
       "    </tr>\n",
       "    <tr>\n",
       "      <th>mean</th>\n",
       "      <td>124.033557</td>\n",
       "    </tr>\n",
       "    <tr>\n",
       "      <th>std</th>\n",
       "      <td>31.256873</td>\n",
       "    </tr>\n",
       "    <tr>\n",
       "      <th>min</th>\n",
       "      <td>52.000000</td>\n",
       "    </tr>\n",
       "    <tr>\n",
       "      <th>25%</th>\n",
       "      <td>103.000000</td>\n",
       "    </tr>\n",
       "    <tr>\n",
       "      <th>50%</th>\n",
       "      <td>120.000000</td>\n",
       "    </tr>\n",
       "    <tr>\n",
       "      <th>75%</th>\n",
       "      <td>141.000000</td>\n",
       "    </tr>\n",
       "    <tr>\n",
       "      <th>max</th>\n",
       "      <td>220.000000</td>\n",
       "    </tr>\n",
       "  </tbody>\n",
       "</table>\n",
       "</div>"
      ],
      "text/plain": [
       "              BPM\n",
       "count  149.000000\n",
       "mean   124.033557\n",
       "std     31.256873\n",
       "min     52.000000\n",
       "25%    103.000000\n",
       "50%    120.000000\n",
       "75%    141.000000\n",
       "max    220.000000"
      ]
     },
     "execution_count": 70,
     "metadata": {},
     "output_type": "execute_result"
    }
   ],
   "source": [
    "bpm_rock.describe()"
   ]
  },
  {
   "cell_type": "code",
   "execution_count": 71,
   "id": "d2272f73",
   "metadata": {},
   "outputs": [
    {
     "name": "stdout",
     "output_type": "stream",
     "text": [
      "The median BPM for rock music lovers is... 120.0\n",
      "The mean BPM for rock music lovers is... 124.03355704697987\n",
      "The standard deviation of the BPM for rock music lovers is... 31.256872997138146\n"
     ]
    }
   ],
   "source": [
    "#descriptive stats\n",
    "median_rock_bpm = bpm_rock['BPM'].median()\n",
    "mean_rock_bpm = bpm_rock['BPM'].mean()\n",
    "std_rock_bpm = bpm_rock['BPM'].std()\n",
    "print('The median BPM for rock music lovers is...', median_rock_bpm)\n",
    "print('The mean BPM for rock music lovers is...', mean_rock_bpm)\n",
    "print('The standard deviation of the BPM for rock music lovers is...', std_rock_bpm)"
   ]
  },
  {
   "cell_type": "code",
   "execution_count": 72,
   "id": "42395980",
   "metadata": {},
   "outputs": [],
   "source": [
    "bpm_rock['z-scores'] = 0\n",
    "for i in bpm_rock['BPM']:\n",
    "    z = ((i-mean_rock_bpm)/std_rock_bpm)\n",
    "    idx = bpm_rock[bpm_rock['BPM'] ==i].index\n",
    "    bpm_rock.loc[idx, \"z-scores\"] =z"
   ]
  },
  {
   "cell_type": "code",
   "execution_count": 73,
   "id": "6d7c01ca",
   "metadata": {},
   "outputs": [],
   "source": [
    "bpm_rock['isOutlierBPM'] = 0\n",
    "for z in bpm_rock['z-scores']:\n",
    "    if (z < -3) | (z > 3):\n",
    "        idx = bpm_rock[bpm_rock['z-scores']==z].index\n",
    "        bpm_rock.loc[idx, 'isOutlierBPM'] =1"
   ]
  },
  {
   "cell_type": "code",
   "execution_count": 74,
   "id": "a15861bb",
   "metadata": {},
   "outputs": [
    {
     "data": {
      "text/plain": [
       "array([0])"
      ]
     },
     "execution_count": 74,
     "metadata": {},
     "output_type": "execute_result"
    }
   ],
   "source": [
    "bpm_kpop['isOutlierBPM'].unique() #no outliers yay!"
   ]
  },
  {
   "cell_type": "code",
   "execution_count": 75,
   "id": "b5cdf816",
   "metadata": {},
   "outputs": [],
   "source": [
    "for i in data['Fav genre']:\n",
    "    if i=='Rock':\n",
    "        idx = data[data['Fav genre']==i].index\n",
    "        isNa = pd.isnull(data.loc[idx,'BPM'])\n",
    "        if isNa.any():\n",
    "            data.loc[idx,'BPM'] = median_rb_bpm"
   ]
  },
  {
   "cell_type": "code",
   "execution_count": 76,
   "id": "8a191a9b",
   "metadata": {},
   "outputs": [
    {
     "data": {
      "text/plain": [
       "54"
      ]
     },
     "execution_count": 76,
     "metadata": {},
     "output_type": "execute_result"
    }
   ],
   "source": [
    "data['BPM'].isna().sum()"
   ]
  },
  {
   "cell_type": "code",
   "execution_count": 77,
   "id": "8fba314b",
   "metadata": {},
   "outputs": [
    {
     "data": {
      "text/html": [
       "<div>\n",
       "<style scoped>\n",
       "    .dataframe tbody tr th:only-of-type {\n",
       "        vertical-align: middle;\n",
       "    }\n",
       "\n",
       "    .dataframe tbody tr th {\n",
       "        vertical-align: top;\n",
       "    }\n",
       "\n",
       "    .dataframe thead th {\n",
       "        text-align: right;\n",
       "    }\n",
       "</style>\n",
       "<table border=\"1\" class=\"dataframe\">\n",
       "  <thead>\n",
       "    <tr style=\"text-align: right;\">\n",
       "      <th></th>\n",
       "      <th>Fav genre</th>\n",
       "      <th>BPM</th>\n",
       "    </tr>\n",
       "  </thead>\n",
       "  <tbody>\n",
       "    <tr>\n",
       "      <th>10</th>\n",
       "      <td>Country</td>\n",
       "      <td>NaN</td>\n",
       "    </tr>\n",
       "    <tr>\n",
       "      <th>13</th>\n",
       "      <td>Country</td>\n",
       "      <td>88.0</td>\n",
       "    </tr>\n",
       "    <tr>\n",
       "      <th>227</th>\n",
       "      <td>Country</td>\n",
       "      <td>119.0</td>\n",
       "    </tr>\n",
       "    <tr>\n",
       "      <th>232</th>\n",
       "      <td>Country</td>\n",
       "      <td>90.0</td>\n",
       "    </tr>\n",
       "    <tr>\n",
       "      <th>262</th>\n",
       "      <td>Country</td>\n",
       "      <td>108.0</td>\n",
       "    </tr>\n",
       "  </tbody>\n",
       "</table>\n",
       "</div>"
      ],
      "text/plain": [
       "    Fav genre    BPM\n",
       "10    Country    NaN\n",
       "13    Country   88.0\n",
       "227   Country  119.0\n",
       "232   Country   90.0\n",
       "262   Country  108.0"
      ]
     },
     "execution_count": 77,
     "metadata": {},
     "output_type": "execute_result"
    }
   ],
   "source": [
    "bpm_count = data.loc[data['Fav genre']=='Country', ['Fav genre','BPM']]\n",
    "bpm_count.head()"
   ]
  },
  {
   "cell_type": "code",
   "execution_count": 78,
   "id": "dec518b7",
   "metadata": {},
   "outputs": [
    {
     "data": {
      "text/plain": [
       "4"
      ]
     },
     "execution_count": 78,
     "metadata": {},
     "output_type": "execute_result"
    }
   ],
   "source": [
    "bpm_count['BPM'].isna().sum()"
   ]
  },
  {
   "cell_type": "code",
   "execution_count": 79,
   "id": "43e41072",
   "metadata": {},
   "outputs": [
    {
     "data": {
      "text/html": [
       "<div>\n",
       "<style scoped>\n",
       "    .dataframe tbody tr th:only-of-type {\n",
       "        vertical-align: middle;\n",
       "    }\n",
       "\n",
       "    .dataframe tbody tr th {\n",
       "        vertical-align: top;\n",
       "    }\n",
       "\n",
       "    .dataframe thead th {\n",
       "        text-align: right;\n",
       "    }\n",
       "</style>\n",
       "<table border=\"1\" class=\"dataframe\">\n",
       "  <thead>\n",
       "    <tr style=\"text-align: right;\">\n",
       "      <th></th>\n",
       "      <th>BPM</th>\n",
       "    </tr>\n",
       "  </thead>\n",
       "  <tbody>\n",
       "    <tr>\n",
       "      <th>count</th>\n",
       "      <td>20.000000</td>\n",
       "    </tr>\n",
       "    <tr>\n",
       "      <th>mean</th>\n",
       "      <td>111.450000</td>\n",
       "    </tr>\n",
       "    <tr>\n",
       "      <th>std</th>\n",
       "      <td>17.910523</td>\n",
       "    </tr>\n",
       "    <tr>\n",
       "      <th>min</th>\n",
       "      <td>86.000000</td>\n",
       "    </tr>\n",
       "    <tr>\n",
       "      <th>25%</th>\n",
       "      <td>104.500000</td>\n",
       "    </tr>\n",
       "    <tr>\n",
       "      <th>50%</th>\n",
       "      <td>109.500000</td>\n",
       "    </tr>\n",
       "    <tr>\n",
       "      <th>75%</th>\n",
       "      <td>119.250000</td>\n",
       "    </tr>\n",
       "    <tr>\n",
       "      <th>max</th>\n",
       "      <td>163.000000</td>\n",
       "    </tr>\n",
       "  </tbody>\n",
       "</table>\n",
       "</div>"
      ],
      "text/plain": [
       "              BPM\n",
       "count   20.000000\n",
       "mean   111.450000\n",
       "std     17.910523\n",
       "min     86.000000\n",
       "25%    104.500000\n",
       "50%    109.500000\n",
       "75%    119.250000\n",
       "max    163.000000"
      ]
     },
     "execution_count": 79,
     "metadata": {},
     "output_type": "execute_result"
    }
   ],
   "source": [
    "bpm_count.describe()"
   ]
  },
  {
   "cell_type": "code",
   "execution_count": 80,
   "id": "5b2ae66b",
   "metadata": {},
   "outputs": [
    {
     "name": "stdout",
     "output_type": "stream",
     "text": [
      "The median BPM for country music lovers is... 109\n",
      "The mean BPM for country music lovers is... 111.45\n",
      "The standard deviation of the BPM for country music lovers is... 17.91052322254331\n"
     ]
    }
   ],
   "source": [
    "#stats\n",
    "median_count_bpm = int(bpm_count['BPM'].median())\n",
    "mean_count_bpm = bpm_count['BPM'].mean()\n",
    "std_count_bpm = bpm_count['BPM'].std()\n",
    "\n",
    "print('The median BPM for country music lovers is...', median_count_bpm)\n",
    "print('The mean BPM for country music lovers is...', mean_count_bpm)\n",
    "print('The standard deviation of the BPM for country music lovers is...', std_count_bpm)"
   ]
  },
  {
   "cell_type": "code",
   "execution_count": 81,
   "id": "8a44fd4b",
   "metadata": {},
   "outputs": [],
   "source": [
    "bpm_count['z-scores'] = 0\n",
    "for i in bpm_count['BPM']:\n",
    "    z = ((i-mean_count_bpm)/std_count_bpm)\n",
    "    idx = bpm_count[bpm_count['BPM'] ==i].index\n",
    "    bpm_count.loc[idx, \"z-scores\"] =z"
   ]
  },
  {
   "cell_type": "code",
   "execution_count": 82,
   "id": "6bb7ed5b",
   "metadata": {},
   "outputs": [],
   "source": [
    "bpm_count['isOutlierBPM'] = 0\n",
    "for z in bpm_count['z-scores']:\n",
    "    if (z < -3) | (z > 3):\n",
    "        idx = bpm_count[bpm_count['z-scores']==z].index\n",
    "        bpm_count.loc[idx, 'isOutlierBPM'] =1"
   ]
  },
  {
   "cell_type": "code",
   "execution_count": 83,
   "id": "b9fc54e0",
   "metadata": {},
   "outputs": [
    {
     "data": {
      "text/plain": [
       "array([0])"
      ]
     },
     "execution_count": 83,
     "metadata": {},
     "output_type": "execute_result"
    }
   ],
   "source": [
    "bpm_count['isOutlierBPM'].unique() #no outliers yay!"
   ]
  },
  {
   "cell_type": "code",
   "execution_count": 84,
   "id": "b21219f3",
   "metadata": {},
   "outputs": [],
   "source": [
    "for i in data['Fav genre']:\n",
    "    if i=='Country':\n",
    "        idx = data[data['Fav genre']==i].index\n",
    "        isNa = pd.isnull(data.loc[idx,'BPM'])\n",
    "        if isNa.any():\n",
    "            data.loc[idx,'BPM'] = median_count_bpm"
   ]
  },
  {
   "cell_type": "code",
   "execution_count": 85,
   "id": "a21d04a7",
   "metadata": {},
   "outputs": [
    {
     "data": {
      "text/plain": [
       "50"
      ]
     },
     "execution_count": 85,
     "metadata": {},
     "output_type": "execute_result"
    }
   ],
   "source": [
    "data['BPM'].isna().sum()"
   ]
  },
  {
   "cell_type": "code",
   "execution_count": 86,
   "id": "60f2902b",
   "metadata": {},
   "outputs": [
    {
     "data": {
      "text/plain": [
       "array(['Video game music', 'Jazz', 'R&B', 'K pop', 'Rock', 'Country',\n",
       "       'EDM', 'Pop', 'Hip hop', 'Rap', 'Classical', 'Metal', 'Folk',\n",
       "       'Lofi', 'Gospel', 'Latin'], dtype=object)"
      ]
     },
     "execution_count": 86,
     "metadata": {},
     "output_type": "execute_result"
    }
   ],
   "source": [
    "data['Fav genre'].unique()"
   ]
  },
  {
   "cell_type": "code",
   "execution_count": 87,
   "id": "4258f661",
   "metadata": {},
   "outputs": [
    {
     "data": {
      "text/html": [
       "<div>\n",
       "<style scoped>\n",
       "    .dataframe tbody tr th:only-of-type {\n",
       "        vertical-align: middle;\n",
       "    }\n",
       "\n",
       "    .dataframe tbody tr th {\n",
       "        vertical-align: top;\n",
       "    }\n",
       "\n",
       "    .dataframe thead th {\n",
       "        text-align: right;\n",
       "    }\n",
       "</style>\n",
       "<table border=\"1\" class=\"dataframe\">\n",
       "  <thead>\n",
       "    <tr style=\"text-align: right;\">\n",
       "      <th></th>\n",
       "      <th>Fav genre</th>\n",
       "      <th>BPM</th>\n",
       "    </tr>\n",
       "  </thead>\n",
       "  <tbody>\n",
       "    <tr>\n",
       "      <th>11</th>\n",
       "      <td>EDM</td>\n",
       "      <td>125.0</td>\n",
       "    </tr>\n",
       "    <tr>\n",
       "      <th>39</th>\n",
       "      <td>EDM</td>\n",
       "      <td>161.0</td>\n",
       "    </tr>\n",
       "    <tr>\n",
       "      <th>50</th>\n",
       "      <td>EDM</td>\n",
       "      <td>128.0</td>\n",
       "    </tr>\n",
       "    <tr>\n",
       "      <th>78</th>\n",
       "      <td>EDM</td>\n",
       "      <td>150.0</td>\n",
       "    </tr>\n",
       "    <tr>\n",
       "      <th>96</th>\n",
       "      <td>EDM</td>\n",
       "      <td>121.0</td>\n",
       "    </tr>\n",
       "  </tbody>\n",
       "</table>\n",
       "</div>"
      ],
      "text/plain": [
       "   Fav genre    BPM\n",
       "11       EDM  125.0\n",
       "39       EDM  161.0\n",
       "50       EDM  128.0\n",
       "78       EDM  150.0\n",
       "96       EDM  121.0"
      ]
     },
     "execution_count": 87,
     "metadata": {},
     "output_type": "execute_result"
    }
   ],
   "source": [
    "edm = data.loc[data['Fav genre']=='EDM', ['Fav genre', 'BPM']]\n",
    "edm.head()"
   ]
  },
  {
   "cell_type": "code",
   "execution_count": 88,
   "id": "50545803",
   "metadata": {},
   "outputs": [
    {
     "data": {
      "text/plain": [
       "Fav genre    0\n",
       "BPM          0\n",
       "dtype: int64"
      ]
     },
     "execution_count": 88,
     "metadata": {},
     "output_type": "execute_result"
    }
   ],
   "source": [
    "edm.isna().sum()"
   ]
  },
  {
   "cell_type": "code",
   "execution_count": 89,
   "id": "131323e1",
   "metadata": {},
   "outputs": [
    {
     "data": {
      "text/html": [
       "<div>\n",
       "<style scoped>\n",
       "    .dataframe tbody tr th:only-of-type {\n",
       "        vertical-align: middle;\n",
       "    }\n",
       "\n",
       "    .dataframe tbody tr th {\n",
       "        vertical-align: top;\n",
       "    }\n",
       "\n",
       "    .dataframe thead th {\n",
       "        text-align: right;\n",
       "    }\n",
       "</style>\n",
       "<table border=\"1\" class=\"dataframe\">\n",
       "  <thead>\n",
       "    <tr style=\"text-align: right;\">\n",
       "      <th></th>\n",
       "      <th>BPM</th>\n",
       "    </tr>\n",
       "  </thead>\n",
       "  <tbody>\n",
       "    <tr>\n",
       "      <th>count</th>\n",
       "      <td>36.000000</td>\n",
       "    </tr>\n",
       "    <tr>\n",
       "      <th>mean</th>\n",
       "      <td>147.500000</td>\n",
       "    </tr>\n",
       "    <tr>\n",
       "      <th>std</th>\n",
       "      <td>86.472622</td>\n",
       "    </tr>\n",
       "    <tr>\n",
       "      <th>min</th>\n",
       "      <td>85.000000</td>\n",
       "    </tr>\n",
       "    <tr>\n",
       "      <th>25%</th>\n",
       "      <td>120.000000</td>\n",
       "    </tr>\n",
       "    <tr>\n",
       "      <th>50%</th>\n",
       "      <td>132.000000</td>\n",
       "    </tr>\n",
       "    <tr>\n",
       "      <th>75%</th>\n",
       "      <td>156.000000</td>\n",
       "    </tr>\n",
       "    <tr>\n",
       "      <th>max</th>\n",
       "      <td>624.000000</td>\n",
       "    </tr>\n",
       "  </tbody>\n",
       "</table>\n",
       "</div>"
      ],
      "text/plain": [
       "              BPM\n",
       "count   36.000000\n",
       "mean   147.500000\n",
       "std     86.472622\n",
       "min     85.000000\n",
       "25%    120.000000\n",
       "50%    132.000000\n",
       "75%    156.000000\n",
       "max    624.000000"
      ]
     },
     "execution_count": 89,
     "metadata": {},
     "output_type": "execute_result"
    }
   ],
   "source": [
    "edm.describe()"
   ]
  },
  {
   "cell_type": "code",
   "execution_count": 90,
   "id": "60ffa90f",
   "metadata": {},
   "outputs": [],
   "source": [
    "#stats things\n",
    "median_edm = edm['BPM'].median()\n",
    "mean_edm = edm['BPM'].mean()\n",
    "std_edm = edm['BPM'].std()"
   ]
  },
  {
   "cell_type": "code",
   "execution_count": 91,
   "id": "e640d117",
   "metadata": {},
   "outputs": [],
   "source": [
    "edm['z-scores'] = 0\n",
    "for i in edm['BPM']:\n",
    "    z = ((i-mean_edm)/std_edm)\n",
    "    idx = edm[edm['BPM'] ==i].index\n",
    "    edm.loc[idx, \"z-scores\"] =z"
   ]
  },
  {
   "cell_type": "code",
   "execution_count": 92,
   "id": "1eb525d5",
   "metadata": {},
   "outputs": [],
   "source": [
    "edm['isOutlierBPM'] = 0\n",
    "for z in edm['z-scores']:\n",
    "    if (z < -3) | (z > 3):\n",
    "        idx = edm[edm['z-scores']==z].index\n",
    "        edm.loc[idx, 'isOutlierBPM'] =1"
   ]
  },
  {
   "cell_type": "code",
   "execution_count": 93,
   "id": "da606fdb",
   "metadata": {},
   "outputs": [
    {
     "data": {
      "text/plain": [
       "array([0, 1])"
      ]
     },
     "execution_count": 93,
     "metadata": {},
     "output_type": "execute_result"
    }
   ],
   "source": [
    "edm['isOutlierBPM'].unique()"
   ]
  },
  {
   "cell_type": "code",
   "execution_count": 94,
   "id": "6b879402",
   "metadata": {},
   "outputs": [
    {
     "name": "stdout",
     "output_type": "stream",
     "text": [
      "Int64Index([644], dtype='int64')\n",
      "644    624.0\n",
      "Name: BPM, dtype: float64\n"
     ]
    }
   ],
   "source": [
    "outlier_index = []\n",
    "for i in edm['isOutlierBPM']:\n",
    "    if i==1:\n",
    "        idx = edm[edm['isOutlierBPM']==i].index\n",
    "        bpm = edm.loc[idx, 'BPM']\n",
    "        outlier_index.append(idx)\n",
    "        print(idx)\n",
    "        print(bpm)"
   ]
  },
  {
   "cell_type": "code",
   "execution_count": 95,
   "id": "7441b4f1",
   "metadata": {},
   "outputs": [],
   "source": [
    "for i in outlier_index:\n",
    "    data.loc[i, 'BPM'] = median_edm\n",
    "    edm.loc[i,'BPM'] = median_edm"
   ]
  },
  {
   "cell_type": "code",
   "execution_count": 96,
   "id": "04daa25a",
   "metadata": {},
   "outputs": [
    {
     "data": {
      "text/html": [
       "<div>\n",
       "<style scoped>\n",
       "    .dataframe tbody tr th:only-of-type {\n",
       "        vertical-align: middle;\n",
       "    }\n",
       "\n",
       "    .dataframe tbody tr th {\n",
       "        vertical-align: top;\n",
       "    }\n",
       "\n",
       "    .dataframe thead th {\n",
       "        text-align: right;\n",
       "    }\n",
       "</style>\n",
       "<table border=\"1\" class=\"dataframe\">\n",
       "  <thead>\n",
       "    <tr style=\"text-align: right;\">\n",
       "      <th></th>\n",
       "      <th>Fav genre</th>\n",
       "      <th>BPM</th>\n",
       "    </tr>\n",
       "  </thead>\n",
       "  <tbody>\n",
       "    <tr>\n",
       "      <th>15</th>\n",
       "      <td>Pop</td>\n",
       "      <td>NaN</td>\n",
       "    </tr>\n",
       "    <tr>\n",
       "      <th>23</th>\n",
       "      <td>Pop</td>\n",
       "      <td>79.0</td>\n",
       "    </tr>\n",
       "    <tr>\n",
       "      <th>25</th>\n",
       "      <td>Pop</td>\n",
       "      <td>169.0</td>\n",
       "    </tr>\n",
       "    <tr>\n",
       "      <th>27</th>\n",
       "      <td>Pop</td>\n",
       "      <td>101.0</td>\n",
       "    </tr>\n",
       "    <tr>\n",
       "      <th>28</th>\n",
       "      <td>Pop</td>\n",
       "      <td>126.0</td>\n",
       "    </tr>\n",
       "  </tbody>\n",
       "</table>\n",
       "</div>"
      ],
      "text/plain": [
       "   Fav genre    BPM\n",
       "15       Pop    NaN\n",
       "23       Pop   79.0\n",
       "25       Pop  169.0\n",
       "27       Pop  101.0\n",
       "28       Pop  126.0"
      ]
     },
     "execution_count": 96,
     "metadata": {},
     "output_type": "execute_result"
    }
   ],
   "source": [
    "pop = data.loc[data['Fav genre']=='Pop',['Fav genre','BPM']]\n",
    "pop.head()"
   ]
  },
  {
   "cell_type": "code",
   "execution_count": 97,
   "id": "8c2ace10",
   "metadata": {},
   "outputs": [
    {
     "data": {
      "text/plain": [
       "17"
      ]
     },
     "execution_count": 97,
     "metadata": {},
     "output_type": "execute_result"
    }
   ],
   "source": [
    "pop['BPM'].isna().sum()"
   ]
  },
  {
   "cell_type": "code",
   "execution_count": 98,
   "id": "aafd957c",
   "metadata": {},
   "outputs": [
    {
     "data": {
      "text/plain": [
       "(114, 2)"
      ]
     },
     "execution_count": 98,
     "metadata": {},
     "output_type": "execute_result"
    }
   ],
   "source": [
    "pop.shape"
   ]
  },
  {
   "cell_type": "code",
   "execution_count": 99,
   "id": "2bfbf7f8",
   "metadata": {},
   "outputs": [
    {
     "data": {
      "text/html": [
       "<div>\n",
       "<style scoped>\n",
       "    .dataframe tbody tr th:only-of-type {\n",
       "        vertical-align: middle;\n",
       "    }\n",
       "\n",
       "    .dataframe tbody tr th {\n",
       "        vertical-align: top;\n",
       "    }\n",
       "\n",
       "    .dataframe thead th {\n",
       "        text-align: right;\n",
       "    }\n",
       "</style>\n",
       "<table border=\"1\" class=\"dataframe\">\n",
       "  <thead>\n",
       "    <tr style=\"text-align: right;\">\n",
       "      <th></th>\n",
       "      <th>BPM</th>\n",
       "    </tr>\n",
       "  </thead>\n",
       "  <tbody>\n",
       "    <tr>\n",
       "      <th>count</th>\n",
       "      <td>97.000000</td>\n",
       "    </tr>\n",
       "    <tr>\n",
       "      <th>mean</th>\n",
       "      <td>118.907216</td>\n",
       "    </tr>\n",
       "    <tr>\n",
       "      <th>std</th>\n",
       "      <td>28.231219</td>\n",
       "    </tr>\n",
       "    <tr>\n",
       "      <th>min</th>\n",
       "      <td>60.000000</td>\n",
       "    </tr>\n",
       "    <tr>\n",
       "      <th>25%</th>\n",
       "      <td>101.000000</td>\n",
       "    </tr>\n",
       "    <tr>\n",
       "      <th>50%</th>\n",
       "      <td>120.000000</td>\n",
       "    </tr>\n",
       "    <tr>\n",
       "      <th>75%</th>\n",
       "      <td>134.000000</td>\n",
       "    </tr>\n",
       "    <tr>\n",
       "      <th>max</th>\n",
       "      <td>208.000000</td>\n",
       "    </tr>\n",
       "  </tbody>\n",
       "</table>\n",
       "</div>"
      ],
      "text/plain": [
       "              BPM\n",
       "count   97.000000\n",
       "mean   118.907216\n",
       "std     28.231219\n",
       "min     60.000000\n",
       "25%    101.000000\n",
       "50%    120.000000\n",
       "75%    134.000000\n",
       "max    208.000000"
      ]
     },
     "execution_count": 99,
     "metadata": {},
     "output_type": "execute_result"
    }
   ],
   "source": [
    "pop.describe()"
   ]
  },
  {
   "cell_type": "code",
   "execution_count": 100,
   "id": "0770adca",
   "metadata": {},
   "outputs": [],
   "source": [
    "#stats\n",
    "median_pop = pop['BPM'].median()\n",
    "mean_pop = pop['BPM'].mean()\n",
    "std_pop = pop['BPM'].std()"
   ]
  },
  {
   "cell_type": "code",
   "execution_count": 101,
   "id": "12817f29",
   "metadata": {},
   "outputs": [],
   "source": [
    "pop['z-scores'] = 0\n",
    "for i in pop['BPM']:\n",
    "    z = ((i-mean_pop)/std_pop)\n",
    "    idx = pop[pop['BPM'] ==i].index\n",
    "    pop.loc[idx, \"z-scores\"] =z"
   ]
  },
  {
   "cell_type": "code",
   "execution_count": 102,
   "id": "5af4c8c0",
   "metadata": {},
   "outputs": [],
   "source": [
    "pop['isOutlierBPM'] = 0\n",
    "for z in pop['z-scores']:\n",
    "    if (z < -3) | (z > 3):\n",
    "        idx = pop[pop['z-scores']==z].index\n",
    "        pop.loc[idx, 'isOutlierBPM'] =1"
   ]
  },
  {
   "cell_type": "code",
   "execution_count": 103,
   "id": "67768a4b",
   "metadata": {},
   "outputs": [
    {
     "data": {
      "text/plain": [
       "array([0, 1])"
      ]
     },
     "execution_count": 103,
     "metadata": {},
     "output_type": "execute_result"
    }
   ],
   "source": [
    "pop['isOutlierBPM'].unique()"
   ]
  },
  {
   "cell_type": "code",
   "execution_count": 104,
   "id": "e68282a1",
   "metadata": {},
   "outputs": [
    {
     "name": "stdout",
     "output_type": "stream",
     "text": [
      "Int64Index([353], dtype='int64')\n",
      "353    208.0\n",
      "Name: BPM, dtype: float64\n"
     ]
    }
   ],
   "source": [
    "outlier_index = []\n",
    "for i in pop['isOutlierBPM']:\n",
    "    if i==1:\n",
    "        idx = pop[pop['isOutlierBPM']==i].index\n",
    "        bpm = pop.loc[idx, 'BPM']\n",
    "        outlier_index.append(idx)\n",
    "        print(idx)\n",
    "        print(bpm)"
   ]
  },
  {
   "cell_type": "code",
   "execution_count": 105,
   "id": "ad8c19ee",
   "metadata": {},
   "outputs": [],
   "source": [
    "for i in outlier_index:\n",
    "    data.loc[i, 'BPM'] = median_pop\n",
    "    pop.loc[i,'BPM'] = median_pop"
   ]
  },
  {
   "cell_type": "code",
   "execution_count": 106,
   "id": "6beb4a4f",
   "metadata": {},
   "outputs": [
    {
     "data": {
      "text/html": [
       "<div>\n",
       "<style scoped>\n",
       "    .dataframe tbody tr th:only-of-type {\n",
       "        vertical-align: middle;\n",
       "    }\n",
       "\n",
       "    .dataframe tbody tr th {\n",
       "        vertical-align: top;\n",
       "    }\n",
       "\n",
       "    .dataframe thead th {\n",
       "        text-align: right;\n",
       "    }\n",
       "</style>\n",
       "<table border=\"1\" class=\"dataframe\">\n",
       "  <thead>\n",
       "    <tr style=\"text-align: right;\">\n",
       "      <th></th>\n",
       "      <th>BPM</th>\n",
       "      <th>z-scores</th>\n",
       "      <th>isOutlierBPM</th>\n",
       "    </tr>\n",
       "  </thead>\n",
       "  <tbody>\n",
       "    <tr>\n",
       "      <th>count</th>\n",
       "      <td>97.000000</td>\n",
       "      <td>1.140000e+02</td>\n",
       "      <td>114.000000</td>\n",
       "    </tr>\n",
       "    <tr>\n",
       "      <th>mean</th>\n",
       "      <td>118.000000</td>\n",
       "      <td>9.349247e-17</td>\n",
       "      <td>0.008772</td>\n",
       "    </tr>\n",
       "    <tr>\n",
       "      <th>std</th>\n",
       "      <td>26.711421</td>\n",
       "      <td>9.217144e-01</td>\n",
       "      <td>0.093659</td>\n",
       "    </tr>\n",
       "    <tr>\n",
       "      <th>min</th>\n",
       "      <td>60.000000</td>\n",
       "      <td>-2.086598e+00</td>\n",
       "      <td>0.000000</td>\n",
       "    </tr>\n",
       "    <tr>\n",
       "      <th>25%</th>\n",
       "      <td>101.000000</td>\n",
       "      <td>-4.926184e-01</td>\n",
       "      <td>0.000000</td>\n",
       "    </tr>\n",
       "    <tr>\n",
       "      <th>50%</th>\n",
       "      <td>120.000000</td>\n",
       "      <td>0.000000e+00</td>\n",
       "      <td>0.000000</td>\n",
       "    </tr>\n",
       "    <tr>\n",
       "      <th>75%</th>\n",
       "      <td>132.000000</td>\n",
       "      <td>3.486489e-01</td>\n",
       "      <td>0.000000</td>\n",
       "    </tr>\n",
       "    <tr>\n",
       "      <th>max</th>\n",
       "      <td>192.000000</td>\n",
       "      <td>3.155825e+00</td>\n",
       "      <td>1.000000</td>\n",
       "    </tr>\n",
       "  </tbody>\n",
       "</table>\n",
       "</div>"
      ],
      "text/plain": [
       "              BPM      z-scores  isOutlierBPM\n",
       "count   97.000000  1.140000e+02    114.000000\n",
       "mean   118.000000  9.349247e-17      0.008772\n",
       "std     26.711421  9.217144e-01      0.093659\n",
       "min     60.000000 -2.086598e+00      0.000000\n",
       "25%    101.000000 -4.926184e-01      0.000000\n",
       "50%    120.000000  0.000000e+00      0.000000\n",
       "75%    132.000000  3.486489e-01      0.000000\n",
       "max    192.000000  3.155825e+00      1.000000"
      ]
     },
     "execution_count": 106,
     "metadata": {},
     "output_type": "execute_result"
    }
   ],
   "source": [
    "pop.describe()"
   ]
  },
  {
   "cell_type": "code",
   "execution_count": 107,
   "id": "1eb0d079",
   "metadata": {},
   "outputs": [],
   "source": [
    "for i in data['Fav genre']:\n",
    "    if i=='Pop':\n",
    "        idx = data[data['Fav genre']==i].index\n",
    "        isNa = pd.isnull(data.loc[idx,'BPM'])\n",
    "        if isNa.any():\n",
    "            data.loc[idx,'BPM'] = median_pop"
   ]
  },
  {
   "cell_type": "code",
   "execution_count": 108,
   "id": "57ff06b7",
   "metadata": {},
   "outputs": [
    {
     "data": {
      "text/plain": [
       "33"
      ]
     },
     "execution_count": 108,
     "metadata": {},
     "output_type": "execute_result"
    }
   ],
   "source": [
    "data['BPM'].isna().sum()"
   ]
  },
  {
   "cell_type": "code",
   "execution_count": 109,
   "id": "0994ead7",
   "metadata": {},
   "outputs": [
    {
     "data": {
      "text/html": [
       "<div>\n",
       "<style scoped>\n",
       "    .dataframe tbody tr th:only-of-type {\n",
       "        vertical-align: middle;\n",
       "    }\n",
       "\n",
       "    .dataframe tbody tr th {\n",
       "        vertical-align: top;\n",
       "    }\n",
       "\n",
       "    .dataframe thead th {\n",
       "        text-align: right;\n",
       "    }\n",
       "</style>\n",
       "<table border=\"1\" class=\"dataframe\">\n",
       "  <thead>\n",
       "    <tr style=\"text-align: right;\">\n",
       "      <th></th>\n",
       "      <th>Fav genre</th>\n",
       "      <th>BPM</th>\n",
       "    </tr>\n",
       "  </thead>\n",
       "  <tbody>\n",
       "    <tr>\n",
       "      <th>16</th>\n",
       "      <td>Hip hop</td>\n",
       "      <td>103.0</td>\n",
       "    </tr>\n",
       "    <tr>\n",
       "      <th>17</th>\n",
       "      <td>Hip hop</td>\n",
       "      <td>120.0</td>\n",
       "    </tr>\n",
       "    <tr>\n",
       "      <th>19</th>\n",
       "      <td>Hip hop</td>\n",
       "      <td>120.0</td>\n",
       "    </tr>\n",
       "    <tr>\n",
       "      <th>20</th>\n",
       "      <td>Hip hop</td>\n",
       "      <td>120.0</td>\n",
       "    </tr>\n",
       "    <tr>\n",
       "      <th>67</th>\n",
       "      <td>Hip hop</td>\n",
       "      <td>140.0</td>\n",
       "    </tr>\n",
       "  </tbody>\n",
       "</table>\n",
       "</div>"
      ],
      "text/plain": [
       "   Fav genre    BPM\n",
       "16   Hip hop  103.0\n",
       "17   Hip hop  120.0\n",
       "19   Hip hop  120.0\n",
       "20   Hip hop  120.0\n",
       "67   Hip hop  140.0"
      ]
     },
     "execution_count": 109,
     "metadata": {},
     "output_type": "execute_result"
    }
   ],
   "source": [
    "hh = data.loc[data['Fav genre']=='Hip hop', ['Fav genre','BPM']]\n",
    "hh.head()"
   ]
  },
  {
   "cell_type": "code",
   "execution_count": 110,
   "id": "63e21eb8",
   "metadata": {},
   "outputs": [
    {
     "data": {
      "text/plain": [
       "2"
      ]
     },
     "execution_count": 110,
     "metadata": {},
     "output_type": "execute_result"
    }
   ],
   "source": [
    "hh['BPM'].isna().sum()"
   ]
  },
  {
   "cell_type": "code",
   "execution_count": 111,
   "id": "fa094eb0",
   "metadata": {},
   "outputs": [
    {
     "data": {
      "text/html": [
       "<div>\n",
       "<style scoped>\n",
       "    .dataframe tbody tr th:only-of-type {\n",
       "        vertical-align: middle;\n",
       "    }\n",
       "\n",
       "    .dataframe tbody tr th {\n",
       "        vertical-align: top;\n",
       "    }\n",
       "\n",
       "    .dataframe thead th {\n",
       "        text-align: right;\n",
       "    }\n",
       "</style>\n",
       "<table border=\"1\" class=\"dataframe\">\n",
       "  <thead>\n",
       "    <tr style=\"text-align: right;\">\n",
       "      <th></th>\n",
       "      <th>BPM</th>\n",
       "    </tr>\n",
       "  </thead>\n",
       "  <tbody>\n",
       "    <tr>\n",
       "      <th>count</th>\n",
       "      <td>32.000000</td>\n",
       "    </tr>\n",
       "    <tr>\n",
       "      <th>mean</th>\n",
       "      <td>111.906250</td>\n",
       "    </tr>\n",
       "    <tr>\n",
       "      <th>std</th>\n",
       "      <td>34.360855</td>\n",
       "    </tr>\n",
       "    <tr>\n",
       "      <th>min</th>\n",
       "      <td>20.000000</td>\n",
       "    </tr>\n",
       "    <tr>\n",
       "      <th>25%</th>\n",
       "      <td>88.000000</td>\n",
       "    </tr>\n",
       "    <tr>\n",
       "      <th>50%</th>\n",
       "      <td>111.500000</td>\n",
       "    </tr>\n",
       "    <tr>\n",
       "      <th>75%</th>\n",
       "      <td>133.250000</td>\n",
       "    </tr>\n",
       "    <tr>\n",
       "      <th>max</th>\n",
       "      <td>178.000000</td>\n",
       "    </tr>\n",
       "  </tbody>\n",
       "</table>\n",
       "</div>"
      ],
      "text/plain": [
       "              BPM\n",
       "count   32.000000\n",
       "mean   111.906250\n",
       "std     34.360855\n",
       "min     20.000000\n",
       "25%     88.000000\n",
       "50%    111.500000\n",
       "75%    133.250000\n",
       "max    178.000000"
      ]
     },
     "execution_count": 111,
     "metadata": {},
     "output_type": "execute_result"
    }
   ],
   "source": [
    "hh.describe()"
   ]
  },
  {
   "cell_type": "code",
   "execution_count": 112,
   "id": "75abb17c",
   "metadata": {},
   "outputs": [],
   "source": [
    "#stats things\n",
    "median_hh = hh['BPM'].median()\n",
    "mean_hh = hh['BPM'].mean()\n",
    "std_hh = hh['BPM'].std()"
   ]
  },
  {
   "cell_type": "code",
   "execution_count": 113,
   "id": "d729c054",
   "metadata": {},
   "outputs": [],
   "source": [
    "hh['z-scores'] = 0\n",
    "for i in hh['BPM']:\n",
    "    z = ((i-mean_hh)/std_hh)\n",
    "    idx = hh[hh['BPM'] ==i].index\n",
    "    hh.loc[idx, \"z-scores\"] =z"
   ]
  },
  {
   "cell_type": "code",
   "execution_count": 114,
   "id": "5a91bb5f",
   "metadata": {},
   "outputs": [],
   "source": [
    "hh['isOutlierBPM'] = 0\n",
    "for z in hh['z-scores']:\n",
    "    if (z < -3) | (z > 3):\n",
    "        idx = hh[hh['z-scores']==z].index\n",
    "        hh.loc[idx, 'isOutlierBPM'] =1"
   ]
  },
  {
   "cell_type": "code",
   "execution_count": 115,
   "id": "fe17f552",
   "metadata": {},
   "outputs": [
    {
     "data": {
      "text/plain": [
       "array([0])"
      ]
     },
     "execution_count": 115,
     "metadata": {},
     "output_type": "execute_result"
    }
   ],
   "source": [
    "hh['isOutlierBPM'].unique() #no outliers"
   ]
  },
  {
   "cell_type": "code",
   "execution_count": 116,
   "id": "60f2f458",
   "metadata": {},
   "outputs": [],
   "source": [
    "for i in data['Fav genre']:\n",
    "    if i=='Hip hop':\n",
    "        idx = data[data['Fav genre']==i].index\n",
    "        isNa = pd.isnull(data.loc[idx,'BPM'])\n",
    "        if isNa.any():\n",
    "            data.loc[idx,'BPM'] = median_hh"
   ]
  },
  {
   "cell_type": "code",
   "execution_count": 117,
   "id": "67136f1f",
   "metadata": {},
   "outputs": [
    {
     "data": {
      "text/plain": [
       "31"
      ]
     },
     "execution_count": 117,
     "metadata": {},
     "output_type": "execute_result"
    }
   ],
   "source": [
    "data['BPM'].isna().sum()"
   ]
  },
  {
   "cell_type": "code",
   "execution_count": 118,
   "id": "42b0b5ff",
   "metadata": {},
   "outputs": [
    {
     "data": {
      "text/html": [
       "<div>\n",
       "<style scoped>\n",
       "    .dataframe tbody tr th:only-of-type {\n",
       "        vertical-align: middle;\n",
       "    }\n",
       "\n",
       "    .dataframe tbody tr th {\n",
       "        vertical-align: top;\n",
       "    }\n",
       "\n",
       "    .dataframe thead th {\n",
       "        text-align: right;\n",
       "    }\n",
       "</style>\n",
       "<table border=\"1\" class=\"dataframe\">\n",
       "  <thead>\n",
       "    <tr style=\"text-align: right;\">\n",
       "      <th></th>\n",
       "      <th>Fav genre</th>\n",
       "      <th>BPM</th>\n",
       "    </tr>\n",
       "  </thead>\n",
       "  <tbody>\n",
       "    <tr>\n",
       "      <th>18</th>\n",
       "      <td>Rap</td>\n",
       "      <td>99.0</td>\n",
       "    </tr>\n",
       "    <tr>\n",
       "      <th>21</th>\n",
       "      <td>Rap</td>\n",
       "      <td>125.0</td>\n",
       "    </tr>\n",
       "    <tr>\n",
       "      <th>52</th>\n",
       "      <td>Rap</td>\n",
       "      <td>140.0</td>\n",
       "    </tr>\n",
       "    <tr>\n",
       "      <th>141</th>\n",
       "      <td>Rap</td>\n",
       "      <td>126.0</td>\n",
       "    </tr>\n",
       "    <tr>\n",
       "      <th>212</th>\n",
       "      <td>Rap</td>\n",
       "      <td>155.0</td>\n",
       "    </tr>\n",
       "  </tbody>\n",
       "</table>\n",
       "</div>"
      ],
      "text/plain": [
       "    Fav genre    BPM\n",
       "18        Rap   99.0\n",
       "21        Rap  125.0\n",
       "52        Rap  140.0\n",
       "141       Rap  126.0\n",
       "212       Rap  155.0"
      ]
     },
     "execution_count": 118,
     "metadata": {},
     "output_type": "execute_result"
    }
   ],
   "source": [
    "rap = data.loc[data['Fav genre']=='Rap', ['Fav genre','BPM']]\n",
    "rap.head()"
   ]
  },
  {
   "cell_type": "code",
   "execution_count": 119,
   "id": "e16bb1d6",
   "metadata": {},
   "outputs": [
    {
     "data": {
      "text/plain": [
       "Fav genre    0\n",
       "BPM          2\n",
       "dtype: int64"
      ]
     },
     "execution_count": 119,
     "metadata": {},
     "output_type": "execute_result"
    }
   ],
   "source": [
    "rap.isna().sum()"
   ]
  },
  {
   "cell_type": "code",
   "execution_count": 120,
   "id": "557eb01d",
   "metadata": {},
   "outputs": [
    {
     "data": {
      "text/html": [
       "<div>\n",
       "<style scoped>\n",
       "    .dataframe tbody tr th:only-of-type {\n",
       "        vertical-align: middle;\n",
       "    }\n",
       "\n",
       "    .dataframe tbody tr th {\n",
       "        vertical-align: top;\n",
       "    }\n",
       "\n",
       "    .dataframe thead th {\n",
       "        text-align: right;\n",
       "    }\n",
       "</style>\n",
       "<table border=\"1\" class=\"dataframe\">\n",
       "  <thead>\n",
       "    <tr style=\"text-align: right;\">\n",
       "      <th></th>\n",
       "      <th>BPM</th>\n",
       "    </tr>\n",
       "  </thead>\n",
       "  <tbody>\n",
       "    <tr>\n",
       "      <th>count</th>\n",
       "      <td>20.00000</td>\n",
       "    </tr>\n",
       "    <tr>\n",
       "      <th>mean</th>\n",
       "      <td>127.10000</td>\n",
       "    </tr>\n",
       "    <tr>\n",
       "      <th>std</th>\n",
       "      <td>24.36758</td>\n",
       "    </tr>\n",
       "    <tr>\n",
       "      <th>min</th>\n",
       "      <td>73.00000</td>\n",
       "    </tr>\n",
       "    <tr>\n",
       "      <th>25%</th>\n",
       "      <td>114.25000</td>\n",
       "    </tr>\n",
       "    <tr>\n",
       "      <th>50%</th>\n",
       "      <td>130.50000</td>\n",
       "    </tr>\n",
       "    <tr>\n",
       "      <th>75%</th>\n",
       "      <td>140.75000</td>\n",
       "    </tr>\n",
       "    <tr>\n",
       "      <th>max</th>\n",
       "      <td>170.00000</td>\n",
       "    </tr>\n",
       "  </tbody>\n",
       "</table>\n",
       "</div>"
      ],
      "text/plain": [
       "             BPM\n",
       "count   20.00000\n",
       "mean   127.10000\n",
       "std     24.36758\n",
       "min     73.00000\n",
       "25%    114.25000\n",
       "50%    130.50000\n",
       "75%    140.75000\n",
       "max    170.00000"
      ]
     },
     "execution_count": 120,
     "metadata": {},
     "output_type": "execute_result"
    }
   ],
   "source": [
    "rap.describe()"
   ]
  },
  {
   "cell_type": "code",
   "execution_count": 121,
   "id": "8d752763",
   "metadata": {},
   "outputs": [],
   "source": [
    "#stats\n",
    "median_rap = rap['BPM'].median()\n",
    "mean_rap = rap['BPM'].mean()\n",
    "std_rap = rap['BPM'].std()"
   ]
  },
  {
   "cell_type": "code",
   "execution_count": 122,
   "id": "b5597fb1",
   "metadata": {},
   "outputs": [],
   "source": [
    "rap['z-scores'] = 0\n",
    "for i in rap['BPM']:\n",
    "    z = ((i-mean_rap)/std_rap)\n",
    "    idx = rap[rap['BPM'] ==i].index\n",
    "    rap.loc[idx, \"z-scores\"] =z"
   ]
  },
  {
   "cell_type": "code",
   "execution_count": 123,
   "id": "aee929e3",
   "metadata": {},
   "outputs": [],
   "source": [
    "rap['isOutlierBPM'] = 0\n",
    "for z in rap['z-scores']:\n",
    "    if (z < -3) | (z > 3):\n",
    "        idx = rap[rap['z-scores']==z].index\n",
    "        rap.loc[idx, 'isOutlierBPM'] =1"
   ]
  },
  {
   "cell_type": "code",
   "execution_count": 124,
   "id": "cde1635e",
   "metadata": {},
   "outputs": [
    {
     "data": {
      "text/plain": [
       "array([0])"
      ]
     },
     "execution_count": 124,
     "metadata": {},
     "output_type": "execute_result"
    }
   ],
   "source": [
    "rap['isOutlierBPM'].unique() #no outliers identified"
   ]
  },
  {
   "cell_type": "code",
   "execution_count": 125,
   "id": "982aadd6",
   "metadata": {},
   "outputs": [],
   "source": [
    "for i in data['Fav genre']:\n",
    "    if i=='Rap':\n",
    "        idx = data[data['Fav genre']==i].index\n",
    "        isNa = pd.isnull(data.loc[idx,'BPM'])\n",
    "        if isNa.any():\n",
    "            data.loc[idx,'BPM'] = median_rap"
   ]
  },
  {
   "cell_type": "code",
   "execution_count": 126,
   "id": "9307c6b1",
   "metadata": {},
   "outputs": [
    {
     "data": {
      "text/plain": [
       "29"
      ]
     },
     "execution_count": 126,
     "metadata": {},
     "output_type": "execute_result"
    }
   ],
   "source": [
    "data['BPM'].isna().sum()"
   ]
  },
  {
   "cell_type": "code",
   "execution_count": 127,
   "id": "de0f31ec",
   "metadata": {},
   "outputs": [
    {
     "data": {
      "text/html": [
       "<div>\n",
       "<style scoped>\n",
       "    .dataframe tbody tr th:only-of-type {\n",
       "        vertical-align: middle;\n",
       "    }\n",
       "\n",
       "    .dataframe tbody tr th {\n",
       "        vertical-align: top;\n",
       "    }\n",
       "\n",
       "    .dataframe thead th {\n",
       "        text-align: right;\n",
       "    }\n",
       "</style>\n",
       "<table border=\"1\" class=\"dataframe\">\n",
       "  <thead>\n",
       "    <tr style=\"text-align: right;\">\n",
       "      <th></th>\n",
       "      <th>Fav genre</th>\n",
       "      <th>BPM</th>\n",
       "    </tr>\n",
       "  </thead>\n",
       "  <tbody>\n",
       "    <tr>\n",
       "      <th>31</th>\n",
       "      <td>Classical</td>\n",
       "      <td>120.0</td>\n",
       "    </tr>\n",
       "    <tr>\n",
       "      <th>34</th>\n",
       "      <td>Classical</td>\n",
       "      <td>75.0</td>\n",
       "    </tr>\n",
       "    <tr>\n",
       "      <th>43</th>\n",
       "      <td>Classical</td>\n",
       "      <td>120.0</td>\n",
       "    </tr>\n",
       "    <tr>\n",
       "      <th>46</th>\n",
       "      <td>Classical</td>\n",
       "      <td>132.0</td>\n",
       "    </tr>\n",
       "    <tr>\n",
       "      <th>55</th>\n",
       "      <td>Classical</td>\n",
       "      <td>NaN</td>\n",
       "    </tr>\n",
       "  </tbody>\n",
       "</table>\n",
       "</div>"
      ],
      "text/plain": [
       "    Fav genre    BPM\n",
       "31  Classical  120.0\n",
       "34  Classical   75.0\n",
       "43  Classical  120.0\n",
       "46  Classical  132.0\n",
       "55  Classical    NaN"
      ]
     },
     "execution_count": 127,
     "metadata": {},
     "output_type": "execute_result"
    }
   ],
   "source": [
    "classic = data.loc[data['Fav genre']=='Classical',['Fav genre','BPM']]\n",
    "classic.head()"
   ]
  },
  {
   "cell_type": "code",
   "execution_count": 128,
   "id": "ba85dee1",
   "metadata": {},
   "outputs": [
    {
     "data": {
      "text/plain": [
       "Fav genre     0\n",
       "BPM          13\n",
       "dtype: int64"
      ]
     },
     "execution_count": 128,
     "metadata": {},
     "output_type": "execute_result"
    }
   ],
   "source": [
    "classic.isna().sum()"
   ]
  },
  {
   "cell_type": "code",
   "execution_count": 129,
   "id": "ede1f491",
   "metadata": {},
   "outputs": [
    {
     "data": {
      "text/plain": [
       "(51, 2)"
      ]
     },
     "execution_count": 129,
     "metadata": {},
     "output_type": "execute_result"
    }
   ],
   "source": [
    "classic.shape"
   ]
  },
  {
   "cell_type": "code",
   "execution_count": 130,
   "id": "5bdf7934",
   "metadata": {},
   "outputs": [
    {
     "data": {
      "text/html": [
       "<div>\n",
       "<style scoped>\n",
       "    .dataframe tbody tr th:only-of-type {\n",
       "        vertical-align: middle;\n",
       "    }\n",
       "\n",
       "    .dataframe tbody tr th {\n",
       "        vertical-align: top;\n",
       "    }\n",
       "\n",
       "    .dataframe thead th {\n",
       "        text-align: right;\n",
       "    }\n",
       "</style>\n",
       "<table border=\"1\" class=\"dataframe\">\n",
       "  <thead>\n",
       "    <tr style=\"text-align: right;\">\n",
       "      <th></th>\n",
       "      <th>BPM</th>\n",
       "    </tr>\n",
       "  </thead>\n",
       "  <tbody>\n",
       "    <tr>\n",
       "      <th>count</th>\n",
       "      <td>38.000000</td>\n",
       "    </tr>\n",
       "    <tr>\n",
       "      <th>mean</th>\n",
       "      <td>114.815789</td>\n",
       "    </tr>\n",
       "    <tr>\n",
       "      <th>std</th>\n",
       "      <td>34.270668</td>\n",
       "    </tr>\n",
       "    <tr>\n",
       "      <th>min</th>\n",
       "      <td>40.000000</td>\n",
       "    </tr>\n",
       "    <tr>\n",
       "      <th>25%</th>\n",
       "      <td>95.250000</td>\n",
       "    </tr>\n",
       "    <tr>\n",
       "      <th>50%</th>\n",
       "      <td>117.500000</td>\n",
       "    </tr>\n",
       "    <tr>\n",
       "      <th>75%</th>\n",
       "      <td>130.500000</td>\n",
       "    </tr>\n",
       "    <tr>\n",
       "      <th>max</th>\n",
       "      <td>181.000000</td>\n",
       "    </tr>\n",
       "  </tbody>\n",
       "</table>\n",
       "</div>"
      ],
      "text/plain": [
       "              BPM\n",
       "count   38.000000\n",
       "mean   114.815789\n",
       "std     34.270668\n",
       "min     40.000000\n",
       "25%     95.250000\n",
       "50%    117.500000\n",
       "75%    130.500000\n",
       "max    181.000000"
      ]
     },
     "execution_count": 130,
     "metadata": {},
     "output_type": "execute_result"
    }
   ],
   "source": [
    "classic.describe()"
   ]
  },
  {
   "cell_type": "code",
   "execution_count": 131,
   "id": "4e8f8010",
   "metadata": {},
   "outputs": [],
   "source": [
    "#stats things\n",
    "median_classic = classic['BPM'].median()\n",
    "mean_classic = classic['BPM'].mean()\n",
    "std_classic = classic['BPM'].std()"
   ]
  },
  {
   "cell_type": "code",
   "execution_count": 132,
   "id": "d9a7143a",
   "metadata": {},
   "outputs": [],
   "source": [
    "classic['z-scores'] = 0\n",
    "for i in classic['BPM']:\n",
    "    z = ((i-mean_classic)/std_classic)\n",
    "    idx = classic[classic['BPM'] ==i].index\n",
    "    classic.loc[idx, \"z-scores\"] =z"
   ]
  },
  {
   "cell_type": "code",
   "execution_count": 133,
   "id": "bed54a05",
   "metadata": {},
   "outputs": [],
   "source": [
    "rap['isOutlierBPM'] = 0\n",
    "for z in rap['z-scores']:\n",
    "    if (z < -3) | (z > 3):\n",
    "        idx = rap[rap['z-scores']==z].index\n",
    "        rap.loc[idx, 'isOutlierBPM'] =1"
   ]
  },
  {
   "cell_type": "code",
   "execution_count": 134,
   "id": "e55f7bd5",
   "metadata": {},
   "outputs": [
    {
     "data": {
      "text/plain": [
       "array([0])"
      ]
     },
     "execution_count": 134,
     "metadata": {},
     "output_type": "execute_result"
    }
   ],
   "source": [
    "rap['isOutlierBPM'].unique() #no outliers identified"
   ]
  },
  {
   "cell_type": "code",
   "execution_count": 135,
   "id": "ba1000b1",
   "metadata": {},
   "outputs": [],
   "source": [
    "for i in data['Fav genre']:\n",
    "    if i=='Classical':\n",
    "        idx = data[data['Fav genre']==i].index\n",
    "        isNa = pd.isnull(data.loc[idx,'BPM'])\n",
    "        if isNa.any():\n",
    "            data.loc[idx,'BPM'] = median_classic"
   ]
  },
  {
   "cell_type": "code",
   "execution_count": 136,
   "id": "0672af4a",
   "metadata": {},
   "outputs": [
    {
     "data": {
      "text/plain": [
       "16"
      ]
     },
     "execution_count": 136,
     "metadata": {},
     "output_type": "execute_result"
    }
   ],
   "source": [
    "data['BPM'].isna().sum()"
   ]
  },
  {
   "cell_type": "code",
   "execution_count": 137,
   "id": "0b275c30",
   "metadata": {},
   "outputs": [
    {
     "data": {
      "text/html": [
       "<div>\n",
       "<style scoped>\n",
       "    .dataframe tbody tr th:only-of-type {\n",
       "        vertical-align: middle;\n",
       "    }\n",
       "\n",
       "    .dataframe tbody tr th {\n",
       "        vertical-align: top;\n",
       "    }\n",
       "\n",
       "    .dataframe thead th {\n",
       "        text-align: right;\n",
       "    }\n",
       "</style>\n",
       "<table border=\"1\" class=\"dataframe\">\n",
       "  <thead>\n",
       "    <tr style=\"text-align: right;\">\n",
       "      <th></th>\n",
       "      <th>Fav genre</th>\n",
       "      <th>BPM</th>\n",
       "    </tr>\n",
       "  </thead>\n",
       "  <tbody>\n",
       "    <tr>\n",
       "      <th>32</th>\n",
       "      <td>Metal</td>\n",
       "      <td>NaN</td>\n",
       "    </tr>\n",
       "    <tr>\n",
       "      <th>44</th>\n",
       "      <td>Metal</td>\n",
       "      <td>77.0</td>\n",
       "    </tr>\n",
       "    <tr>\n",
       "      <th>48</th>\n",
       "      <td>Metal</td>\n",
       "      <td>157.0</td>\n",
       "    </tr>\n",
       "    <tr>\n",
       "      <th>63</th>\n",
       "      <td>Metal</td>\n",
       "      <td>170.0</td>\n",
       "    </tr>\n",
       "    <tr>\n",
       "      <th>65</th>\n",
       "      <td>Metal</td>\n",
       "      <td>174.0</td>\n",
       "    </tr>\n",
       "  </tbody>\n",
       "</table>\n",
       "</div>"
      ],
      "text/plain": [
       "   Fav genre    BPM\n",
       "32     Metal    NaN\n",
       "44     Metal   77.0\n",
       "48     Metal  157.0\n",
       "63     Metal  170.0\n",
       "65     Metal  174.0"
      ]
     },
     "execution_count": 137,
     "metadata": {},
     "output_type": "execute_result"
    }
   ],
   "source": [
    "metal = data.loc[data['Fav genre']=='Metal',['Fav genre','BPM']]\n",
    "metal.head()"
   ]
  },
  {
   "cell_type": "code",
   "execution_count": 138,
   "id": "85d60a10",
   "metadata": {},
   "outputs": [
    {
     "data": {
      "text/plain": [
       "Fav genre     0\n",
       "BPM          10\n",
       "dtype: int64"
      ]
     },
     "execution_count": 138,
     "metadata": {},
     "output_type": "execute_result"
    }
   ],
   "source": [
    "metal.isna().sum()"
   ]
  },
  {
   "cell_type": "code",
   "execution_count": 139,
   "id": "37fc9df2",
   "metadata": {},
   "outputs": [
    {
     "data": {
      "text/html": [
       "<div>\n",
       "<style scoped>\n",
       "    .dataframe tbody tr th:only-of-type {\n",
       "        vertical-align: middle;\n",
       "    }\n",
       "\n",
       "    .dataframe tbody tr th {\n",
       "        vertical-align: top;\n",
       "    }\n",
       "\n",
       "    .dataframe thead th {\n",
       "        text-align: right;\n",
       "    }\n",
       "</style>\n",
       "<table border=\"1\" class=\"dataframe\">\n",
       "  <thead>\n",
       "    <tr style=\"text-align: right;\">\n",
       "      <th></th>\n",
       "      <th>BPM</th>\n",
       "    </tr>\n",
       "  </thead>\n",
       "  <tbody>\n",
       "    <tr>\n",
       "      <th>count</th>\n",
       "      <td>77.000000</td>\n",
       "    </tr>\n",
       "    <tr>\n",
       "      <th>mean</th>\n",
       "      <td>139.675325</td>\n",
       "    </tr>\n",
       "    <tr>\n",
       "      <th>std</th>\n",
       "      <td>42.018618</td>\n",
       "    </tr>\n",
       "    <tr>\n",
       "      <th>min</th>\n",
       "      <td>0.000000</td>\n",
       "    </tr>\n",
       "    <tr>\n",
       "      <th>25%</th>\n",
       "      <td>117.000000</td>\n",
       "    </tr>\n",
       "    <tr>\n",
       "      <th>50%</th>\n",
       "      <td>140.000000</td>\n",
       "    </tr>\n",
       "    <tr>\n",
       "      <th>75%</th>\n",
       "      <td>165.000000</td>\n",
       "    </tr>\n",
       "    <tr>\n",
       "      <th>max</th>\n",
       "      <td>220.000000</td>\n",
       "    </tr>\n",
       "  </tbody>\n",
       "</table>\n",
       "</div>"
      ],
      "text/plain": [
       "              BPM\n",
       "count   77.000000\n",
       "mean   139.675325\n",
       "std     42.018618\n",
       "min      0.000000\n",
       "25%    117.000000\n",
       "50%    140.000000\n",
       "75%    165.000000\n",
       "max    220.000000"
      ]
     },
     "execution_count": 139,
     "metadata": {},
     "output_type": "execute_result"
    }
   ],
   "source": [
    "metal.describe()"
   ]
  },
  {
   "cell_type": "code",
   "execution_count": 140,
   "id": "e4e23e06",
   "metadata": {},
   "outputs": [],
   "source": [
    "#stats\n",
    "median_metal = metal['BPM'].median()\n",
    "mean_metal = metal['BPM'].mean()\n",
    "std_metal = metal['BPM'].std()"
   ]
  },
  {
   "cell_type": "code",
   "execution_count": 141,
   "id": "fc613394",
   "metadata": {},
   "outputs": [],
   "source": [
    "metal['z-scores'] = 0\n",
    "for i in metal['BPM']:\n",
    "    z = ((i-mean_metal)/std_metal)\n",
    "    idx = metal[metal['BPM'] ==i].index\n",
    "    metal.loc[idx, \"z-scores\"] =z"
   ]
  },
  {
   "cell_type": "code",
   "execution_count": 142,
   "id": "f07e85ba",
   "metadata": {},
   "outputs": [],
   "source": [
    "metal['isOutlierBPM'] = 0\n",
    "for z in metal['z-scores']:\n",
    "    if (z < -3) | (z > 3):\n",
    "        idx = metal[metal['z-scores']==z].index\n",
    "        metal.loc[idx, 'isOutlierBPM'] =1"
   ]
  },
  {
   "cell_type": "code",
   "execution_count": 143,
   "id": "fd1aef0d",
   "metadata": {},
   "outputs": [
    {
     "data": {
      "text/plain": [
       "array([0, 1])"
      ]
     },
     "execution_count": 143,
     "metadata": {},
     "output_type": "execute_result"
    }
   ],
   "source": [
    "metal['isOutlierBPM'].unique()"
   ]
  },
  {
   "cell_type": "code",
   "execution_count": 144,
   "id": "05b58c06",
   "metadata": {},
   "outputs": [
    {
     "name": "stdout",
     "output_type": "stream",
     "text": [
      "Int64Index([524, 639], dtype='int64')\n",
      "524    0.0\n",
      "639    0.0\n",
      "Name: BPM, dtype: float64\n",
      "Int64Index([524, 639], dtype='int64')\n",
      "524    0.0\n",
      "639    0.0\n",
      "Name: BPM, dtype: float64\n"
     ]
    }
   ],
   "source": [
    "outlier_index = []\n",
    "for i in metal['isOutlierBPM']:\n",
    "    if i==1:\n",
    "        idx = metal[metal['isOutlierBPM']==i].index\n",
    "        bpm = metal.loc[idx, 'BPM']\n",
    "        outlier_index.append(idx)\n",
    "        print(idx)\n",
    "        print(bpm)"
   ]
  },
  {
   "cell_type": "code",
   "execution_count": 146,
   "id": "045c515a",
   "metadata": {},
   "outputs": [],
   "source": [
    "for i in outlier_index:\n",
    "    data.loc[i, 'BPM'] = median_metal\n",
    "    metal.loc[i,'BPM'] = median_metal"
   ]
  },
  {
   "cell_type": "code",
   "execution_count": 148,
   "id": "a67ffacf",
   "metadata": {},
   "outputs": [],
   "source": [
    "for i in data['Fav genre']:\n",
    "    if i=='Metal':\n",
    "        idx = data[data['Fav genre']==i].index\n",
    "        isNa = pd.isnull(data.loc[idx,'BPM'])\n",
    "        if isNa.any():\n",
    "            data.loc[idx,'BPM'] = median_metal"
   ]
  },
  {
   "cell_type": "code",
   "execution_count": 149,
   "id": "0b539ee4",
   "metadata": {},
   "outputs": [
    {
     "data": {
      "text/plain": [
       "6"
      ]
     },
     "execution_count": 149,
     "metadata": {},
     "output_type": "execute_result"
    }
   ],
   "source": [
    "data['BPM'].isna().sum()"
   ]
  },
  {
   "cell_type": "code",
   "execution_count": 150,
   "id": "f985881f",
   "metadata": {},
   "outputs": [
    {
     "data": {
      "text/html": [
       "<div>\n",
       "<style scoped>\n",
       "    .dataframe tbody tr th:only-of-type {\n",
       "        vertical-align: middle;\n",
       "    }\n",
       "\n",
       "    .dataframe tbody tr th {\n",
       "        vertical-align: top;\n",
       "    }\n",
       "\n",
       "    .dataframe thead th {\n",
       "        text-align: right;\n",
       "    }\n",
       "</style>\n",
       "<table border=\"1\" class=\"dataframe\">\n",
       "  <thead>\n",
       "    <tr style=\"text-align: right;\">\n",
       "      <th></th>\n",
       "      <th>Fav genre</th>\n",
       "      <th>BPM</th>\n",
       "    </tr>\n",
       "  </thead>\n",
       "  <tbody>\n",
       "    <tr>\n",
       "      <th>45</th>\n",
       "      <td>Folk</td>\n",
       "      <td>118.0</td>\n",
       "    </tr>\n",
       "    <tr>\n",
       "      <th>58</th>\n",
       "      <td>Folk</td>\n",
       "      <td>55.0</td>\n",
       "    </tr>\n",
       "    <tr>\n",
       "      <th>119</th>\n",
       "      <td>Folk</td>\n",
       "      <td>130.0</td>\n",
       "    </tr>\n",
       "    <tr>\n",
       "      <th>148</th>\n",
       "      <td>Folk</td>\n",
       "      <td>160.0</td>\n",
       "    </tr>\n",
       "    <tr>\n",
       "      <th>178</th>\n",
       "      <td>Folk</td>\n",
       "      <td>128.0</td>\n",
       "    </tr>\n",
       "  </tbody>\n",
       "</table>\n",
       "</div>"
      ],
      "text/plain": [
       "    Fav genre    BPM\n",
       "45       Folk  118.0\n",
       "58       Folk   55.0\n",
       "119      Folk  130.0\n",
       "148      Folk  160.0\n",
       "178      Folk  128.0"
      ]
     },
     "execution_count": 150,
     "metadata": {},
     "output_type": "execute_result"
    }
   ],
   "source": [
    "folk = data.loc[data['Fav genre']=='Folk',['Fav genre','BPM']]\n",
    "folk.head()"
   ]
  },
  {
   "cell_type": "code",
   "execution_count": 151,
   "id": "683bbf44",
   "metadata": {},
   "outputs": [
    {
     "data": {
      "text/plain": [
       "Fav genre    0\n",
       "BPM          4\n",
       "dtype: int64"
      ]
     },
     "execution_count": 151,
     "metadata": {},
     "output_type": "execute_result"
    }
   ],
   "source": [
    "folk.isna().sum()"
   ]
  },
  {
   "cell_type": "code",
   "execution_count": 152,
   "id": "40b4e7ee",
   "metadata": {},
   "outputs": [
    {
     "data": {
      "text/html": [
       "<div>\n",
       "<style scoped>\n",
       "    .dataframe tbody tr th:only-of-type {\n",
       "        vertical-align: middle;\n",
       "    }\n",
       "\n",
       "    .dataframe tbody tr th {\n",
       "        vertical-align: top;\n",
       "    }\n",
       "\n",
       "    .dataframe thead th {\n",
       "        text-align: right;\n",
       "    }\n",
       "</style>\n",
       "<table border=\"1\" class=\"dataframe\">\n",
       "  <thead>\n",
       "    <tr style=\"text-align: right;\">\n",
       "      <th></th>\n",
       "      <th>BPM</th>\n",
       "    </tr>\n",
       "  </thead>\n",
       "  <tbody>\n",
       "    <tr>\n",
       "      <th>count</th>\n",
       "      <td>25.000000</td>\n",
       "    </tr>\n",
       "    <tr>\n",
       "      <th>mean</th>\n",
       "      <td>109.720000</td>\n",
       "    </tr>\n",
       "    <tr>\n",
       "      <th>std</th>\n",
       "      <td>37.410471</td>\n",
       "    </tr>\n",
       "    <tr>\n",
       "      <th>min</th>\n",
       "      <td>0.000000</td>\n",
       "    </tr>\n",
       "    <tr>\n",
       "      <th>25%</th>\n",
       "      <td>92.000000</td>\n",
       "    </tr>\n",
       "    <tr>\n",
       "      <th>50%</th>\n",
       "      <td>116.000000</td>\n",
       "    </tr>\n",
       "    <tr>\n",
       "      <th>75%</th>\n",
       "      <td>130.000000</td>\n",
       "    </tr>\n",
       "    <tr>\n",
       "      <th>max</th>\n",
       "      <td>186.000000</td>\n",
       "    </tr>\n",
       "  </tbody>\n",
       "</table>\n",
       "</div>"
      ],
      "text/plain": [
       "              BPM\n",
       "count   25.000000\n",
       "mean   109.720000\n",
       "std     37.410471\n",
       "min      0.000000\n",
       "25%     92.000000\n",
       "50%    116.000000\n",
       "75%    130.000000\n",
       "max    186.000000"
      ]
     },
     "execution_count": 152,
     "metadata": {},
     "output_type": "execute_result"
    }
   ],
   "source": [
    "folk.describe()"
   ]
  },
  {
   "cell_type": "code",
   "execution_count": 153,
   "id": "4593bbc6",
   "metadata": {},
   "outputs": [],
   "source": [
    "#stats\n",
    "median_folk = folk['BPM'].median()\n",
    "mean_folk = folk['BPM'].mean()\n",
    "std_folk = folk['BPM'].std()"
   ]
  },
  {
   "cell_type": "code",
   "execution_count": 154,
   "id": "0bebd9c5",
   "metadata": {},
   "outputs": [],
   "source": [
    "folk['z-scores'] = 0\n",
    "for i in folk['BPM']:\n",
    "    z = ((i-mean_folk)/std_folk)\n",
    "    idx = folk[folk['BPM'] ==i].index\n",
    "    folk.loc[idx, \"z-scores\"] =z"
   ]
  },
  {
   "cell_type": "code",
   "execution_count": 160,
   "id": "84374c0a",
   "metadata": {},
   "outputs": [],
   "source": [
    "folk['isOutlierBPM'] = 0\n",
    "for z in folk['z-scores']:\n",
    "    if (z < -3) | (z > 3):\n",
    "        idx = folk[folk['z-scores']==z].index\n",
    "        folk.loc[idx, 'isOutlierBPM'] =1"
   ]
  },
  {
   "cell_type": "code",
   "execution_count": 161,
   "id": "3ca07bcf",
   "metadata": {},
   "outputs": [
    {
     "data": {
      "text/plain": [
       "array([0])"
      ]
     },
     "execution_count": 161,
     "metadata": {},
     "output_type": "execute_result"
    }
   ],
   "source": [
    "folk['isOutlierBPM'].unique()"
   ]
  },
  {
   "cell_type": "code",
   "execution_count": 162,
   "id": "5e806406",
   "metadata": {},
   "outputs": [],
   "source": [
    "for i in data['Fav genre']:\n",
    "    if i=='Folk':\n",
    "        idx = data[data['Fav genre']==i].index\n",
    "        isNa = pd.isnull(data.loc[idx,'BPM'])\n",
    "        if isNa.any():\n",
    "            data.loc[idx,'BPM'] = median_folk"
   ]
  },
  {
   "cell_type": "code",
   "execution_count": 163,
   "id": "c1ace774",
   "metadata": {},
   "outputs": [
    {
     "data": {
      "text/plain": [
       "2"
      ]
     },
     "execution_count": 163,
     "metadata": {},
     "output_type": "execute_result"
    }
   ],
   "source": [
    "data['BPM'].isna().sum()"
   ]
  },
  {
   "cell_type": "code",
   "execution_count": 164,
   "id": "107edb00",
   "metadata": {},
   "outputs": [
    {
     "data": {
      "text/html": [
       "<div>\n",
       "<style scoped>\n",
       "    .dataframe tbody tr th:only-of-type {\n",
       "        vertical-align: middle;\n",
       "    }\n",
       "\n",
       "    .dataframe tbody tr th {\n",
       "        vertical-align: top;\n",
       "    }\n",
       "\n",
       "    .dataframe thead th {\n",
       "        text-align: right;\n",
       "    }\n",
       "</style>\n",
       "<table border=\"1\" class=\"dataframe\">\n",
       "  <thead>\n",
       "    <tr style=\"text-align: right;\">\n",
       "      <th></th>\n",
       "      <th>Fav genre</th>\n",
       "      <th>BPM</th>\n",
       "    </tr>\n",
       "  </thead>\n",
       "  <tbody>\n",
       "    <tr>\n",
       "      <th>140</th>\n",
       "      <td>Lofi</td>\n",
       "      <td>79.0</td>\n",
       "    </tr>\n",
       "    <tr>\n",
       "      <th>250</th>\n",
       "      <td>Lofi</td>\n",
       "      <td>85.0</td>\n",
       "    </tr>\n",
       "    <tr>\n",
       "      <th>331</th>\n",
       "      <td>Lofi</td>\n",
       "      <td>120.0</td>\n",
       "    </tr>\n",
       "    <tr>\n",
       "      <th>354</th>\n",
       "      <td>Lofi</td>\n",
       "      <td>91.0</td>\n",
       "    </tr>\n",
       "    <tr>\n",
       "      <th>377</th>\n",
       "      <td>Lofi</td>\n",
       "      <td>114.0</td>\n",
       "    </tr>\n",
       "  </tbody>\n",
       "</table>\n",
       "</div>"
      ],
      "text/plain": [
       "    Fav genre    BPM\n",
       "140      Lofi   79.0\n",
       "250      Lofi   85.0\n",
       "331      Lofi  120.0\n",
       "354      Lofi   91.0\n",
       "377      Lofi  114.0"
      ]
     },
     "execution_count": 164,
     "metadata": {},
     "output_type": "execute_result"
    }
   ],
   "source": [
    "lofi = data.loc[data['Fav genre']=='Lofi',['Fav genre','BPM']]\n",
    "lofi.head()"
   ]
  },
  {
   "cell_type": "code",
   "execution_count": 165,
   "id": "0ef2c968",
   "metadata": {},
   "outputs": [
    {
     "data": {
      "text/plain": [
       "0"
      ]
     },
     "execution_count": 165,
     "metadata": {},
     "output_type": "execute_result"
    }
   ],
   "source": [
    "lofi['BPM'].isna().sum()"
   ]
  },
  {
   "cell_type": "code",
   "execution_count": 166,
   "id": "b69e7bf4",
   "metadata": {},
   "outputs": [],
   "source": [
    "median_lofi = lofi['BPM'].median()\n",
    "mean_lofi = lofi['BPM'].mean()\n",
    "std_lofi = lofi['BPM'].std()\n",
    "\n",
    "lofi['z-scores'] = 0\n",
    "for i in folk['BPM']:\n",
    "    z = ((i-mean_folk)/std_folk)\n",
    "    idx = folk[folk['BPM'] ==i].index\n",
    "    folk.loc[idx, \"z-scores\"] =z\n",
    "    \n",
    "lofi['isOutlierBPM'] = 0\n",
    "for z in lofi['z-scores']:\n",
    "    if (z < -3) | (z > 3):\n",
    "        idx = lofi[lofi['z-scores']==z].index\n",
    "        lofi.loc[idx, 'isOutlierBPM'] =1"
   ]
  },
  {
   "cell_type": "code",
   "execution_count": 167,
   "id": "4746e871",
   "metadata": {},
   "outputs": [
    {
     "data": {
      "text/plain": [
       "array([0])"
      ]
     },
     "execution_count": 167,
     "metadata": {},
     "output_type": "execute_result"
    }
   ],
   "source": [
    "lofi['isOutlierBPM'].unique()"
   ]
  },
  {
   "cell_type": "code",
   "execution_count": null,
   "id": "f029118c",
   "metadata": {},
   "outputs": [],
   "source": []
  },
  {
   "cell_type": "code",
   "execution_count": null,
   "id": "4f544028",
   "metadata": {},
   "outputs": [],
   "source": []
  },
  {
   "cell_type": "code",
   "execution_count": null,
   "id": "64b71516",
   "metadata": {},
   "outputs": [],
   "source": []
  },
  {
   "cell_type": "code",
   "execution_count": null,
   "id": "06c5b2b4",
   "metadata": {},
   "outputs": [],
   "source": []
  },
  {
   "cell_type": "code",
   "execution_count": null,
   "id": "1338c743",
   "metadata": {},
   "outputs": [],
   "source": []
  },
  {
   "cell_type": "code",
   "execution_count": null,
   "id": "9241cc80",
   "metadata": {},
   "outputs": [],
   "source": []
  },
  {
   "cell_type": "code",
   "execution_count": null,
   "id": "2dc0ffac",
   "metadata": {},
   "outputs": [],
   "source": []
  },
  {
   "cell_type": "code",
   "execution_count": null,
   "id": "0b482df8",
   "metadata": {},
   "outputs": [],
   "source": []
  },
  {
   "cell_type": "code",
   "execution_count": null,
   "id": "794b7d5f",
   "metadata": {},
   "outputs": [],
   "source": []
  },
  {
   "cell_type": "code",
   "execution_count": null,
   "id": "06b59e06",
   "metadata": {},
   "outputs": [],
   "source": []
  },
  {
   "cell_type": "code",
   "execution_count": null,
   "id": "5abccf4f",
   "metadata": {},
   "outputs": [],
   "source": []
  },
  {
   "cell_type": "code",
   "execution_count": null,
   "id": "e16dad49",
   "metadata": {},
   "outputs": [],
   "source": []
  },
  {
   "cell_type": "code",
   "execution_count": null,
   "id": "32045882",
   "metadata": {},
   "outputs": [],
   "source": []
  },
  {
   "cell_type": "code",
   "execution_count": null,
   "id": "b86e9576",
   "metadata": {},
   "outputs": [],
   "source": []
  },
  {
   "cell_type": "code",
   "execution_count": null,
   "id": "47aef2d7",
   "metadata": {},
   "outputs": [],
   "source": []
  },
  {
   "cell_type": "code",
   "execution_count": null,
   "id": "a6c07243",
   "metadata": {},
   "outputs": [],
   "source": []
  },
  {
   "cell_type": "code",
   "execution_count": null,
   "id": "d3fa8e19",
   "metadata": {},
   "outputs": [],
   "source": []
  },
  {
   "cell_type": "code",
   "execution_count": null,
   "id": "83287236",
   "metadata": {},
   "outputs": [],
   "source": []
  },
  {
   "cell_type": "code",
   "execution_count": null,
   "id": "954ec0c6",
   "metadata": {},
   "outputs": [],
   "source": []
  },
  {
   "cell_type": "code",
   "execution_count": null,
   "id": "0bfd8144",
   "metadata": {},
   "outputs": [],
   "source": []
  },
  {
   "cell_type": "code",
   "execution_count": null,
   "id": "c9b273aa",
   "metadata": {},
   "outputs": [],
   "source": []
  },
  {
   "cell_type": "code",
   "execution_count": null,
   "id": "108c5748",
   "metadata": {},
   "outputs": [],
   "source": []
  }
 ],
 "metadata": {
  "kernelspec": {
   "display_name": "Python 3 (ipykernel)",
   "language": "python",
   "name": "python3"
  },
  "language_info": {
   "codemirror_mode": {
    "name": "ipython",
    "version": 3
   },
   "file_extension": ".py",
   "mimetype": "text/x-python",
   "name": "python",
   "nbconvert_exporter": "python",
   "pygments_lexer": "ipython3",
   "version": "3.11.4"
  }
 },
 "nbformat": 4,
 "nbformat_minor": 5
}
