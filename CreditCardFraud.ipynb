{
 "cells": [
  {
   "cell_type": "code",
   "execution_count": null,
   "id": "4e840269",
   "metadata": {},
   "outputs": [],
   "source": [
    "import matplotlib.pyplot as plt\n",
    "import numpy as np\n",
    "import csv\n",
    "import pandas as pd\n",
    "import seaborn as sns\n",
    "import statsmodels.api as sm\n",
    "from sklearn.model_selection import train_test_split\n",
    "from sklearn.preprocessing import StandardScaler\n",
    "import scipy"
   ]
  },
  {
   "cell_type": "code",
   "execution_count": null,
   "id": "0820dd60",
   "metadata": {},
   "outputs": [],
   "source": [
    "data = pd.read_csv(\"creditcard_2023.csv\")\n",
    "data.head()"
   ]
  },
  {
   "cell_type": "code",
   "execution_count": null,
   "id": "e44773b6",
   "metadata": {},
   "outputs": [],
   "source": [
    "data = data.drop(columns=['id'])"
   ]
  },
  {
   "cell_type": "code",
   "execution_count": null,
   "id": "e072728f",
   "metadata": {},
   "outputs": [],
   "source": [
    "data.head()"
   ]
  },
  {
   "cell_type": "code",
   "execution_count": null,
   "id": "706cf728",
   "metadata": {},
   "outputs": [],
   "source": [
    "data.shape"
   ]
  },
  {
   "cell_type": "code",
   "execution_count": null,
   "id": "f4a838f8",
   "metadata": {},
   "outputs": [],
   "source": [
    "data.isna().sum()"
   ]
  },
  {
   "cell_type": "code",
   "execution_count": null,
   "id": "7d21ee6a",
   "metadata": {},
   "outputs": [],
   "source": [
    "data.describe()"
   ]
  },
  {
   "cell_type": "code",
   "execution_count": null,
   "id": "2ff56532",
   "metadata": {},
   "outputs": [],
   "source": [
    "#Checking the distribution of the 'Class' column\n",
    "plt.hist(data['Class'])"
   ]
  },
  {
   "cell_type": "code",
   "execution_count": null,
   "id": "4bd1ac1d",
   "metadata": {},
   "outputs": [],
   "source": [
    "correlation_heatmap = data[columns].corr()\n",
    "sns.heatmap(correlation_heatmap, annot =False, cmap=\"coolwarm\")\n",
    "plt.show()"
   ]
  },
  {
   "cell_type": "code",
   "execution_count": null,
   "id": "4c847d0f",
   "metadata": {},
   "outputs": [],
   "source": [
    "data_exp = data[['Class','Amount']]\n",
    "for i in range(20, 29):\n",
    "    i = str(i)\n",
    "    data_exp['V'+i] = data['V'+i]"
   ]
  },
  {
   "cell_type": "code",
   "execution_count": null,
   "id": "bd700cfa",
   "metadata": {},
   "outputs": [],
   "source": [
    "data_exp.head()"
   ]
  },
  {
   "cell_type": "code",
   "execution_count": null,
   "id": "d38a9cb0",
   "metadata": {},
   "outputs": [],
   "source": [
    "exp_heatmap = data_exp[data_exp.columns].corr()\n",
    "sns.heatmap(exp_heatmap, annot =False, cmap=\"coolwarm\")\n",
    "plt.show()"
   ]
  },
  {
   "cell_type": "code",
   "execution_count": null,
   "id": "e645b7f9",
   "metadata": {},
   "outputs": [],
   "source": [
    "plt.scatter(data['V22'],data['V21'], c = '#0011ff22')"
   ]
  },
  {
   "cell_type": "code",
   "execution_count": null,
   "id": "afeaa88e",
   "metadata": {},
   "outputs": [],
   "source": [
    "corr_V21_V22 = scipy.stats.pearsonr(data['V22'],data['V21'])\n",
    "print(corr_V21_V22)"
   ]
  },
  {
   "cell_type": "code",
   "execution_count": null,
   "id": "69f4aef4",
   "metadata": {},
   "outputs": [],
   "source": [
    "amount_matrix = data.corr()\n",
    "corr_with_am = amount_matrix['Amount']\n",
    "sns.heatmap(corr_with_am.to_frame(), annot = True, cmap='coolwarm')\n",
    "plt.show()"
   ]
  },
  {
   "cell_type": "code",
   "execution_count": null,
   "id": "8d726795",
   "metadata": {},
   "outputs": [],
   "source": [
    "#creating a df to store correlations and p-values\n",
    "corr_df = pd.DataFrame(columns=['Var', 'Correlation', 'P-value'])\n",
    "for i in data.columns:\n",
    "    corr, p_value = scipy.stats.pearsonr(data['Amount'], data[i])\n",
    "    corr_df = corr_df.append({\n",
    "        'Var': i,\n",
    "        'Correlation': corr,\n",
    "        'P-value': p_value\n",
    "    }, ignore_index=True)"
   ]
  },
  {
   "cell_type": "code",
   "execution_count": null,
   "id": "041a9c39",
   "metadata": {},
   "outputs": [],
   "source": [
    "corr_df.head()"
   ]
  }
 ],
 "metadata": {
  "kernelspec": {
   "display_name": "Python 3 (ipykernel)",
   "language": "python",
   "name": "python3"
  },
  "language_info": {
   "codemirror_mode": {
    "name": "ipython",
    "version": 3
   },
   "file_extension": ".py",
   "mimetype": "text/x-python",
   "name": "python",
   "nbconvert_exporter": "python",
   "pygments_lexer": "ipython3",
   "version": "3.11.4"
  }
 },
 "nbformat": 4,
 "nbformat_minor": 5
}
