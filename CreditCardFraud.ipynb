{
 "cells": [
  {
   "cell_type": "code",
   "execution_count": null,
   "id": "4e840269",
   "metadata": {},
   "outputs": [],
   "source": [
    "import matplotlib.pyplot as plt\n",
    "import numpy as np\n",
    "import csv\n",
    "import pandas as pd\n",
    "import seaborn as sns\n",
    "import statsmodels.api as sm\n",
    "from sklearn.model_selection import train_test_split\n",
    "from sklearn.preprocessing import MinMaxScaler, StandardScaler\n",
    "import scipy\n",
    "from scipy.stats import boxcox"
   ]
  },
  {
   "cell_type": "code",
   "execution_count": null,
   "id": "0820dd60",
   "metadata": {},
   "outputs": [],
   "source": [
    "data = pd.read_csv(\"creditcard_2023.csv\")\n",
    "data.head()"
   ]
  },
  {
   "cell_type": "code",
   "execution_count": null,
   "id": "e44773b6",
   "metadata": {},
   "outputs": [],
   "source": [
    "data = data.drop(columns=['id'])"
   ]
  },
  {
   "cell_type": "code",
   "execution_count": null,
   "id": "e072728f",
   "metadata": {},
   "outputs": [],
   "source": [
    "data.head()"
   ]
  },
  {
   "cell_type": "code",
   "execution_count": null,
   "id": "706cf728",
   "metadata": {},
   "outputs": [],
   "source": [
    "data.shape"
   ]
  },
  {
   "cell_type": "code",
   "execution_count": null,
   "id": "f4a838f8",
   "metadata": {},
   "outputs": [],
   "source": [
    "data.isna().sum()"
   ]
  },
  {
   "cell_type": "code",
   "execution_count": null,
   "id": "7d21ee6a",
   "metadata": {},
   "outputs": [],
   "source": [
    "data.describe()"
   ]
  },
  {
   "cell_type": "code",
   "execution_count": null,
   "id": "df9a9948",
   "metadata": {},
   "outputs": [],
   "source": [
    "f, ax = plt.subplots(2, 2)\n",
    "sns.histplot(data['V1'], kde=True, ax=ax[0,0])\n",
    "sns.histplot(data['V2'], kde=True, ax=ax[0,1])\n",
    "sns.histplot(data['V3'], kde=True, ax=ax[1,0])\n",
    "sns.histplot(data['V4'], kde=True, ax=ax[1,1])"
   ]
  },
  {
   "cell_type": "code",
   "execution_count": null,
   "id": "df1d90b4",
   "metadata": {},
   "outputs": [],
   "source": [
    "plt.hist(data['V2'], bins =150)"
   ]
  },
  {
   "cell_type": "code",
   "execution_count": null,
   "id": "9db7bb1c",
   "metadata": {},
   "outputs": [],
   "source": [
    "plt.hist(data['V3'], bins=20)"
   ]
  },
  {
   "cell_type": "code",
   "execution_count": null,
   "id": "11dca2d4",
   "metadata": {},
   "outputs": [],
   "source": [
    "data['V3_transformed'] = np.log1p(data['V3'])"
   ]
  },
  {
   "cell_type": "code",
   "execution_count": null,
   "id": "6d146457",
   "metadata": {},
   "outputs": [],
   "source": [
    "data['V3_transformed'].isna().sum()"
   ]
  },
  {
   "cell_type": "code",
   "execution_count": null,
   "id": "d67cfdf7",
   "metadata": {},
   "outputs": [],
   "source": [
    "data = data.drop(columns=['V3_transformed'])"
   ]
  },
  {
   "cell_type": "code",
   "execution_count": null,
   "id": "db28735f",
   "metadata": {},
   "outputs": [],
   "source": [
    "data.head()"
   ]
  },
  {
   "cell_type": "code",
   "execution_count": null,
   "id": "916ab4f0",
   "metadata": {},
   "outputs": [],
   "source": [
    "plt.pie(data['Class'])"
   ]
  },
  {
   "cell_type": "code",
   "execution_count": null,
   "id": "6603540f",
   "metadata": {},
   "outputs": [],
   "source": [
    "correlation_matrix = data[data.columns].corr(method='spearman')\n",
    "mask = np.triu(np.ones_like(correlation_matrix))\n",
    "sns.heatmap(correlation_matrix,mask=mask, annot=False,cmap=\"coolwarm\")\n",
    "plt.show()"
   ]
  },
  {
   "cell_type": "code",
   "execution_count": null,
   "id": "26b866f4",
   "metadata": {},
   "outputs": [],
   "source": [
    "remove = pd.DataFrame()\n",
    "remove = data[['Amount','Class']]\n",
    "for i in range(22, 29):\n",
    "    i=str(i)\n",
    "    remove['V'+i] = data['V'+i]"
   ]
  },
  {
   "cell_type": "code",
   "execution_count": null,
   "id": "c218296e",
   "metadata": {},
   "outputs": [],
   "source": [
    "remove.head()"
   ]
  },
  {
   "cell_type": "code",
   "execution_count": null,
   "id": "d5eba43e",
   "metadata": {},
   "outputs": [],
   "source": [
    "rem_correlation_matrix = remove[remove.columns].corr(method='spearman')\n",
    "mask = np.triu(np.ones_like(rem_correlation_matrix))\n",
    "sns.heatmap(rem_correlation_matrix,mask=mask, annot=True,cmap=\"coolwarm\")\n",
    "plt.show()"
   ]
  },
  {
   "cell_type": "code",
   "execution_count": null,
   "id": "35bfe45d",
   "metadata": {},
   "outputs": [],
   "source": [
    "correlations = []\n",
    "p_values = []\n",
    "var = []\n",
    "for i in data[data.columns]:\n",
    "    if i!='Amount':\n",
    "        c, p = scipy.stats.spearmanr(data[i], data['Amount'])\n",
    "        correlations.append(c)\n",
    "        p_values.append(p)\n",
    "        var.append(i)"
   ]
  },
  {
   "cell_type": "code",
   "execution_count": null,
   "id": "b7525567",
   "metadata": {},
   "outputs": [],
   "source": [
    "conclusion = []\n",
    "x=0\n",
    "for p in p_values:\n",
    "    if (p>0.05) | (p==0.5):\n",
    "        x=1 #accept null\n",
    "    else:\n",
    "        x=0 #reject null\n",
    "    conclusion.append(x)"
   ]
  },
  {
   "cell_type": "code",
   "execution_count": null,
   "id": "3ae26c2d",
   "metadata": {},
   "outputs": [],
   "source": [
    "count_rej = 0\n",
    "for i in conclusion:\n",
    "    if i == 0:\n",
    "        count_rej+=1\n",
    "print(count_rej)"
   ]
  },
  {
   "cell_type": "code",
   "execution_count": null,
   "id": "2577267a",
   "metadata": {},
   "outputs": [],
   "source": [
    "fraud_am = pd.DataFrame()\n",
    "fraud_am = data[data['Class'] == 1][['Class', 'Amount']].copy()\n",
    "fraud_am['Class'].unique()"
   ]
  },
  {
   "cell_type": "code",
   "execution_count": null,
   "id": "86f82086",
   "metadata": {},
   "outputs": [],
   "source": [
    "fraud_am.head()"
   ]
  },
  {
   "cell_type": "code",
   "execution_count": null,
   "id": "d933701f",
   "metadata": {},
   "outputs": [],
   "source": [
    "n_fraud_am = pd.DataFrame()\n",
    "n_fraud_am = data[data['Class'] == 0][['Class', 'Amount']].copy()\n",
    "n_fraud_am['Class'].unique()"
   ]
  },
  {
   "cell_type": "code",
   "execution_count": null,
   "id": "0534ad13",
   "metadata": {},
   "outputs": [],
   "source": [
    "n_fraud_am.head()"
   ]
  },
  {
   "cell_type": "code",
   "execution_count": null,
   "id": "961f7bf9",
   "metadata": {},
   "outputs": [],
   "source": [
    "f, (ax1, ax2) = plt.subplots(2, 1)\n",
    "ax1.hist(fraud_am['Amount'],bins=10000)\n",
    "ax1.set_title(\"Fraud\")\n",
    "ax2.hist(n_fraud_am['Amount'],bins=10000)\n",
    "ax2.set_title(\"Not-fraud\")"
   ]
  },
  {
   "cell_type": "code",
   "execution_count": null,
   "id": "8502dde8",
   "metadata": {},
   "outputs": [],
   "source": []
  }
 ],
 "metadata": {
  "kernelspec": {
   "display_name": "Python 3 (ipykernel)",
   "language": "python",
   "name": "python3"
  },
  "language_info": {
   "codemirror_mode": {
    "name": "ipython",
    "version": 3
   },
   "file_extension": ".py",
   "mimetype": "text/x-python",
   "name": "python",
   "nbconvert_exporter": "python",
   "pygments_lexer": "ipython3",
   "version": "3.11.4"
  }
 },
 "nbformat": 4,
 "nbformat_minor": 5
}
